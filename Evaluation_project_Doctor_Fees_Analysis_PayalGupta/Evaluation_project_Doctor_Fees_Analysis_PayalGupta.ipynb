{
 "cells": [
  {
   "cell_type": "markdown",
   "metadata": {},
   "source": [
    "# Doctor Consultation Fee Analysis"
   ]
  },
  {
   "cell_type": "markdown",
   "metadata": {},
   "source": [
    "# Introduction"
   ]
  },
  {
   "cell_type": "raw",
   "metadata": {},
   "source": [
    "Predicting doctor's fees understanding their basic information\n",
    "\n",
    "In this time we all need doctors at any time for check-up or in any emergency. But we find that their wages or consultancy fees\n",
    "are too high also for a well-settled individual. Some charges are very high and some very low but have a clinic in remote area.\n",
    "What if we can correlate their wages with other valuable information of the doctor and build a machine learning model that can \n",
    "predict the fees? Let’s go ahead and find that.\n",
    "\n",
    "Here we have gathered 2 datasets having the important information of the doctors and one of them having the fees also. Train \n",
    "dataset contains 5961 rows and 7 columns while test dataset contains 1987 rows and 6 columns which means except fees column as\n",
    "we have to predict that.The features are as follows:\n",
    "\n",
    "    Qualification: Qualification and degrees held by the doctor\n",
    "    Experience: Experience of the doctor in number of years\n",
    "    Rating: Rating given by patients\n",
    "    Profile: Type of the doctor\n",
    "    Miscellaeous_Info: Extra information about the doctor\n",
    "    Place: Area and the city where the doctor is located.\n",
    "    Fees: Fees charged by the doctor\n",
    "\n",
    "Task:Regression\n",
    "Target: Fees Column\n",
    " "
   ]
  },
  {
   "cell_type": "markdown",
   "metadata": {},
   "source": [
    "# Data Preprocessing"
   ]
  },
  {
   "cell_type": "code",
   "execution_count": 1,
   "metadata": {},
   "outputs": [],
   "source": [
    "import numpy as np\n",
    "import pandas as pd\n",
    "import matplotlib.pyplot as plt\n",
    "import seaborn as sns\n",
    "import warnings\n",
    "warnings.filterwarnings('ignore')"
   ]
  },
  {
   "cell_type": "code",
   "execution_count": 2,
   "metadata": {},
   "outputs": [],
   "source": [
    "df_train=pd.read_excel(\"Final_Train.xlsx\")\n",
    "df_test=pd.read_excel(\"Final_Test.xlsx\")\n"
   ]
  },
  {
   "cell_type": "code",
   "execution_count": 3,
   "metadata": {},
   "outputs": [
    {
     "data": {
      "text/html": [
       "<div>\n",
       "<style scoped>\n",
       "    .dataframe tbody tr th:only-of-type {\n",
       "        vertical-align: middle;\n",
       "    }\n",
       "\n",
       "    .dataframe tbody tr th {\n",
       "        vertical-align: top;\n",
       "    }\n",
       "\n",
       "    .dataframe thead th {\n",
       "        text-align: right;\n",
       "    }\n",
       "</style>\n",
       "<table border=\"1\" class=\"dataframe\">\n",
       "  <thead>\n",
       "    <tr style=\"text-align: right;\">\n",
       "      <th></th>\n",
       "      <th>Qualification</th>\n",
       "      <th>Experience</th>\n",
       "      <th>Rating</th>\n",
       "      <th>Place</th>\n",
       "      <th>Profile</th>\n",
       "      <th>Miscellaneous_Info</th>\n",
       "      <th>Fees</th>\n",
       "    </tr>\n",
       "  </thead>\n",
       "  <tbody>\n",
       "    <tr>\n",
       "      <th>0</th>\n",
       "      <td>BHMS, MD - Homeopathy</td>\n",
       "      <td>24 years experience</td>\n",
       "      <td>100%</td>\n",
       "      <td>Kakkanad, Ernakulam</td>\n",
       "      <td>Homeopath</td>\n",
       "      <td>100% 16 Feedback Kakkanad, Ernakulam</td>\n",
       "      <td>100</td>\n",
       "    </tr>\n",
       "    <tr>\n",
       "      <th>1</th>\n",
       "      <td>BAMS, MD - Ayurveda Medicine</td>\n",
       "      <td>12 years experience</td>\n",
       "      <td>98%</td>\n",
       "      <td>Whitefield, Bangalore</td>\n",
       "      <td>Ayurveda</td>\n",
       "      <td>98% 76 Feedback Whitefield, Bangalore</td>\n",
       "      <td>350</td>\n",
       "    </tr>\n",
       "    <tr>\n",
       "      <th>2</th>\n",
       "      <td>MBBS, MS - Otorhinolaryngology</td>\n",
       "      <td>9 years experience</td>\n",
       "      <td>NaN</td>\n",
       "      <td>Mathikere - BEL, Bangalore</td>\n",
       "      <td>ENT Specialist</td>\n",
       "      <td>NaN</td>\n",
       "      <td>300</td>\n",
       "    </tr>\n",
       "    <tr>\n",
       "      <th>3</th>\n",
       "      <td>BSc - Zoology, BAMS</td>\n",
       "      <td>12 years experience</td>\n",
       "      <td>NaN</td>\n",
       "      <td>Bannerghatta Road, Bangalore</td>\n",
       "      <td>Ayurveda</td>\n",
       "      <td>Bannerghatta Road, Bangalore ₹250 Available on...</td>\n",
       "      <td>250</td>\n",
       "    </tr>\n",
       "    <tr>\n",
       "      <th>4</th>\n",
       "      <td>BAMS</td>\n",
       "      <td>20 years experience</td>\n",
       "      <td>100%</td>\n",
       "      <td>Keelkattalai, Chennai</td>\n",
       "      <td>Ayurveda</td>\n",
       "      <td>100% 4 Feedback Keelkattalai, Chennai</td>\n",
       "      <td>250</td>\n",
       "    </tr>\n",
       "    <tr>\n",
       "      <th>...</th>\n",
       "      <td>...</td>\n",
       "      <td>...</td>\n",
       "      <td>...</td>\n",
       "      <td>...</td>\n",
       "      <td>...</td>\n",
       "      <td>...</td>\n",
       "      <td>...</td>\n",
       "    </tr>\n",
       "    <tr>\n",
       "      <th>5956</th>\n",
       "      <td>MBBS, MS - ENT</td>\n",
       "      <td>19 years experience</td>\n",
       "      <td>98%</td>\n",
       "      <td>Basavanagudi, Bangalore</td>\n",
       "      <td>ENT Specialist</td>\n",
       "      <td>98% 45 Feedback Basavanagudi, Bangalore</td>\n",
       "      <td>300</td>\n",
       "    </tr>\n",
       "    <tr>\n",
       "      <th>5957</th>\n",
       "      <td>MBBS</td>\n",
       "      <td>33 years experience</td>\n",
       "      <td>NaN</td>\n",
       "      <td>Nungambakkam, Chennai</td>\n",
       "      <td>General Medicine</td>\n",
       "      <td>NaN</td>\n",
       "      <td>100</td>\n",
       "    </tr>\n",
       "    <tr>\n",
       "      <th>5958</th>\n",
       "      <td>MBBS</td>\n",
       "      <td>41 years experience</td>\n",
       "      <td>97%</td>\n",
       "      <td>Greater Kailash Part 2, Delhi</td>\n",
       "      <td>General Medicine</td>\n",
       "      <td>97% 11 Feedback Greater Kailash Part 2, Delhi</td>\n",
       "      <td>600</td>\n",
       "    </tr>\n",
       "    <tr>\n",
       "      <th>5959</th>\n",
       "      <td>MBBS, MD - General Medicine</td>\n",
       "      <td>15 years experience</td>\n",
       "      <td>90%</td>\n",
       "      <td>Vileparle West, Mumbai</td>\n",
       "      <td>General Medicine</td>\n",
       "      <td>General Medical Consultation Viral Fever Treat...</td>\n",
       "      <td>100</td>\n",
       "    </tr>\n",
       "    <tr>\n",
       "      <th>5960</th>\n",
       "      <td>BDS, MDS - Orthodontics</td>\n",
       "      <td>17 years experience</td>\n",
       "      <td>100%</td>\n",
       "      <td>Pitampura, Delhi</td>\n",
       "      <td>Dentist</td>\n",
       "      <td>Acrylic Partial Denture Crowns and Bridges Fix...</td>\n",
       "      <td>200</td>\n",
       "    </tr>\n",
       "  </tbody>\n",
       "</table>\n",
       "<p>5961 rows × 7 columns</p>\n",
       "</div>"
      ],
      "text/plain": [
       "                       Qualification           Experience Rating  \\\n",
       "0              BHMS, MD - Homeopathy  24 years experience   100%   \n",
       "1       BAMS, MD - Ayurveda Medicine  12 years experience    98%   \n",
       "2     MBBS, MS - Otorhinolaryngology   9 years experience    NaN   \n",
       "3                BSc - Zoology, BAMS  12 years experience    NaN   \n",
       "4                               BAMS  20 years experience   100%   \n",
       "...                              ...                  ...    ...   \n",
       "5956                  MBBS, MS - ENT  19 years experience    98%   \n",
       "5957                            MBBS  33 years experience    NaN   \n",
       "5958                            MBBS  41 years experience    97%   \n",
       "5959     MBBS, MD - General Medicine  15 years experience    90%   \n",
       "5960         BDS, MDS - Orthodontics  17 years experience   100%   \n",
       "\n",
       "                              Place           Profile  \\\n",
       "0               Kakkanad, Ernakulam         Homeopath   \n",
       "1             Whitefield, Bangalore          Ayurveda   \n",
       "2        Mathikere - BEL, Bangalore    ENT Specialist   \n",
       "3      Bannerghatta Road, Bangalore          Ayurveda   \n",
       "4             Keelkattalai, Chennai          Ayurveda   \n",
       "...                             ...               ...   \n",
       "5956        Basavanagudi, Bangalore    ENT Specialist   \n",
       "5957          Nungambakkam, Chennai  General Medicine   \n",
       "5958  Greater Kailash Part 2, Delhi  General Medicine   \n",
       "5959         Vileparle West, Mumbai  General Medicine   \n",
       "5960               Pitampura, Delhi           Dentist   \n",
       "\n",
       "                                     Miscellaneous_Info  Fees  \n",
       "0                  100% 16 Feedback Kakkanad, Ernakulam   100  \n",
       "1                 98% 76 Feedback Whitefield, Bangalore   350  \n",
       "2                                                   NaN   300  \n",
       "3     Bannerghatta Road, Bangalore ₹250 Available on...   250  \n",
       "4                 100% 4 Feedback Keelkattalai, Chennai   250  \n",
       "...                                                 ...   ...  \n",
       "5956            98% 45 Feedback Basavanagudi, Bangalore   300  \n",
       "5957                                                NaN   100  \n",
       "5958      97% 11 Feedback Greater Kailash Part 2, Delhi   600  \n",
       "5959  General Medical Consultation Viral Fever Treat...   100  \n",
       "5960  Acrylic Partial Denture Crowns and Bridges Fix...   200  \n",
       "\n",
       "[5961 rows x 7 columns]"
      ]
     },
     "execution_count": 3,
     "metadata": {},
     "output_type": "execute_result"
    }
   ],
   "source": [
    "df_train"
   ]
  },
  {
   "cell_type": "code",
   "execution_count": 4,
   "metadata": {},
   "outputs": [
    {
     "data": {
      "text/html": [
       "<div>\n",
       "<style scoped>\n",
       "    .dataframe tbody tr th:only-of-type {\n",
       "        vertical-align: middle;\n",
       "    }\n",
       "\n",
       "    .dataframe tbody tr th {\n",
       "        vertical-align: top;\n",
       "    }\n",
       "\n",
       "    .dataframe thead th {\n",
       "        text-align: right;\n",
       "    }\n",
       "</style>\n",
       "<table border=\"1\" class=\"dataframe\">\n",
       "  <thead>\n",
       "    <tr style=\"text-align: right;\">\n",
       "      <th></th>\n",
       "      <th>Qualification</th>\n",
       "      <th>Experience</th>\n",
       "      <th>Rating</th>\n",
       "      <th>Place</th>\n",
       "      <th>Profile</th>\n",
       "      <th>Miscellaneous_Info</th>\n",
       "    </tr>\n",
       "  </thead>\n",
       "  <tbody>\n",
       "    <tr>\n",
       "      <th>0</th>\n",
       "      <td>MBBS</td>\n",
       "      <td>35 years experience</td>\n",
       "      <td>NaN</td>\n",
       "      <td>Ghatkopar East, Mumbai</td>\n",
       "      <td>General Medicine</td>\n",
       "      <td>NaN</td>\n",
       "    </tr>\n",
       "    <tr>\n",
       "      <th>1</th>\n",
       "      <td>MBBS, Diploma in Otorhinolaryngology (DLO)</td>\n",
       "      <td>31 years experience</td>\n",
       "      <td>NaN</td>\n",
       "      <td>West Marredpally, Hyderabad</td>\n",
       "      <td>ENT Specialist</td>\n",
       "      <td>NaN</td>\n",
       "    </tr>\n",
       "    <tr>\n",
       "      <th>2</th>\n",
       "      <td>MBBS, DDVL</td>\n",
       "      <td>40 years experience</td>\n",
       "      <td>70%</td>\n",
       "      <td>KK Nagar, Chennai</td>\n",
       "      <td>Dermatologists</td>\n",
       "      <td>70% 4 Feedback KK Nagar, Chennai</td>\n",
       "    </tr>\n",
       "    <tr>\n",
       "      <th>3</th>\n",
       "      <td>BAMS</td>\n",
       "      <td>0 years experience</td>\n",
       "      <td>NaN</td>\n",
       "      <td>New Ashok Nagar, Delhi</td>\n",
       "      <td>Ayurveda</td>\n",
       "      <td>NaN</td>\n",
       "    </tr>\n",
       "    <tr>\n",
       "      <th>4</th>\n",
       "      <td>BDS, MDS - Conservative Dentistry &amp; Endodontics</td>\n",
       "      <td>16 years experience</td>\n",
       "      <td>100%</td>\n",
       "      <td>Kanakpura Road, Bangalore</td>\n",
       "      <td>Dentist</td>\n",
       "      <td>General Dentistry Conservative Dentistry Cosme...</td>\n",
       "    </tr>\n",
       "    <tr>\n",
       "      <th>...</th>\n",
       "      <td>...</td>\n",
       "      <td>...</td>\n",
       "      <td>...</td>\n",
       "      <td>...</td>\n",
       "      <td>...</td>\n",
       "      <td>...</td>\n",
       "    </tr>\n",
       "    <tr>\n",
       "      <th>1982</th>\n",
       "      <td>BAMS, Doctor of Medicine</td>\n",
       "      <td>10 years experience</td>\n",
       "      <td>NaN</td>\n",
       "      <td>Basavanagudi, Bangalore</td>\n",
       "      <td>Ayurveda</td>\n",
       "      <td>NaN</td>\n",
       "    </tr>\n",
       "    <tr>\n",
       "      <th>1983</th>\n",
       "      <td>MD - Dermatology , Venereology &amp; Leprosy, MBBS</td>\n",
       "      <td>4 years experience</td>\n",
       "      <td>NaN</td>\n",
       "      <td>Choolai, Chennai</td>\n",
       "      <td>Dermatologists</td>\n",
       "      <td>NaN</td>\n",
       "    </tr>\n",
       "    <tr>\n",
       "      <th>1984</th>\n",
       "      <td>MBBS, MD / MS - Obstetrics &amp; Gynaecology</td>\n",
       "      <td>9 years experience</td>\n",
       "      <td>NaN</td>\n",
       "      <td>Porur, Chennai</td>\n",
       "      <td>General Medicine</td>\n",
       "      <td>NaN</td>\n",
       "    </tr>\n",
       "    <tr>\n",
       "      <th>1985</th>\n",
       "      <td>BDS</td>\n",
       "      <td>12 years experience</td>\n",
       "      <td>98%</td>\n",
       "      <td>Arekere, Bangalore</td>\n",
       "      <td>Dentist</td>\n",
       "      <td>RCT - Root Canal Treatment Root Canal Treatmen...</td>\n",
       "    </tr>\n",
       "    <tr>\n",
       "      <th>1986</th>\n",
       "      <td>MBBS, MD - Dermatology , Venereology &amp; Leprosy</td>\n",
       "      <td>8 years experience</td>\n",
       "      <td>NaN</td>\n",
       "      <td>Pallikaranai, Chennai</td>\n",
       "      <td>Dermatologists</td>\n",
       "      <td>1 Feedback Pallikaranai, Chennai ₹500</td>\n",
       "    </tr>\n",
       "  </tbody>\n",
       "</table>\n",
       "<p>1987 rows × 6 columns</p>\n",
       "</div>"
      ],
      "text/plain": [
       "                                        Qualification           Experience  \\\n",
       "0                                                MBBS  35 years experience   \n",
       "1          MBBS, Diploma in Otorhinolaryngology (DLO)  31 years experience   \n",
       "2                                          MBBS, DDVL  40 years experience   \n",
       "3                                                BAMS   0 years experience   \n",
       "4     BDS, MDS - Conservative Dentistry & Endodontics  16 years experience   \n",
       "...                                               ...                  ...   \n",
       "1982                         BAMS, Doctor of Medicine  10 years experience   \n",
       "1983   MD - Dermatology , Venereology & Leprosy, MBBS   4 years experience   \n",
       "1984         MBBS, MD / MS - Obstetrics & Gynaecology   9 years experience   \n",
       "1985                                              BDS  12 years experience   \n",
       "1986   MBBS, MD - Dermatology , Venereology & Leprosy   8 years experience   \n",
       "\n",
       "     Rating                        Place           Profile  \\\n",
       "0       NaN       Ghatkopar East, Mumbai  General Medicine   \n",
       "1       NaN  West Marredpally, Hyderabad    ENT Specialist   \n",
       "2       70%            KK Nagar, Chennai    Dermatologists   \n",
       "3       NaN       New Ashok Nagar, Delhi          Ayurveda   \n",
       "4      100%    Kanakpura Road, Bangalore           Dentist   \n",
       "...     ...                          ...               ...   \n",
       "1982    NaN      Basavanagudi, Bangalore          Ayurveda   \n",
       "1983    NaN             Choolai, Chennai    Dermatologists   \n",
       "1984    NaN               Porur, Chennai  General Medicine   \n",
       "1985    98%           Arekere, Bangalore           Dentist   \n",
       "1986    NaN        Pallikaranai, Chennai    Dermatologists   \n",
       "\n",
       "                                     Miscellaneous_Info  \n",
       "0                                                   NaN  \n",
       "1                                                   NaN  \n",
       "2                      70% 4 Feedback KK Nagar, Chennai  \n",
       "3                                                   NaN  \n",
       "4     General Dentistry Conservative Dentistry Cosme...  \n",
       "...                                                 ...  \n",
       "1982                                                NaN  \n",
       "1983                                                NaN  \n",
       "1984                                                NaN  \n",
       "1985  RCT - Root Canal Treatment Root Canal Treatmen...  \n",
       "1986              1 Feedback Pallikaranai, Chennai ₹500  \n",
       "\n",
       "[1987 rows x 6 columns]"
      ]
     },
     "execution_count": 4,
     "metadata": {},
     "output_type": "execute_result"
    }
   ],
   "source": [
    "df_test"
   ]
  },
  {
   "cell_type": "code",
   "execution_count": 5,
   "metadata": {},
   "outputs": [
    {
     "data": {
      "text/plain": [
       "Qualification            0\n",
       "Experience               0\n",
       "Rating                3302\n",
       "Place                   25\n",
       "Profile                  0\n",
       "Miscellaneous_Info    2620\n",
       "Fees                     0\n",
       "dtype: int64"
      ]
     },
     "execution_count": 5,
     "metadata": {},
     "output_type": "execute_result"
    }
   ],
   "source": [
    "df_train.isnull().sum()"
   ]
  },
  {
   "cell_type": "code",
   "execution_count": 6,
   "metadata": {},
   "outputs": [
    {
     "data": {
      "text/plain": [
       "Qualification            0\n",
       "Experience               0\n",
       "Rating                1090\n",
       "Place                    6\n",
       "Profile                  0\n",
       "Miscellaneous_Info     834\n",
       "dtype: int64"
      ]
     },
     "execution_count": 6,
     "metadata": {},
     "output_type": "execute_result"
    }
   ],
   "source": [
    "df_test.isnull().sum()"
   ]
  },
  {
   "cell_type": "code",
   "execution_count": 7,
   "metadata": {},
   "outputs": [
    {
     "data": {
      "text/plain": [
       "Qualification         object\n",
       "Experience            object\n",
       "Rating                object\n",
       "Place                 object\n",
       "Profile               object\n",
       "Miscellaneous_Info    object\n",
       "Fees                   int64\n",
       "dtype: object"
      ]
     },
     "execution_count": 7,
     "metadata": {},
     "output_type": "execute_result"
    }
   ],
   "source": [
    "df_train.dtypes"
   ]
  },
  {
   "cell_type": "code",
   "execution_count": 8,
   "metadata": {},
   "outputs": [
    {
     "data": {
      "text/plain": [
       "Qualification         object\n",
       "Experience            object\n",
       "Rating                object\n",
       "Place                 object\n",
       "Profile               object\n",
       "Miscellaneous_Info    object\n",
       "dtype: object"
      ]
     },
     "execution_count": 8,
     "metadata": {},
     "output_type": "execute_result"
    }
   ],
   "source": [
    "df_test.dtypes"
   ]
  },
  {
   "cell_type": "code",
   "execution_count": 9,
   "metadata": {},
   "outputs": [
    {
     "name": "stdout",
     "output_type": "stream",
     "text": [
      "BDS                                                                                                                                         488\n",
      "BHMS                                                                                                                                        477\n",
      "BAMS                                                                                                                                        471\n",
      "MBBS                                                                                                                                        334\n",
      "MBBS, MS - ENT                                                                                                                              220\n",
      "                                                                                                                                           ... \n",
      "DNB - ENT, Diploma in Otorhinolaryngology (DLO), MBBS                                                                                         1\n",
      "DHMS (Diploma in Homeopathic Medicine and Surgery), MD - Alternate Medicine, Diploma in Trichology - Cosmetology, Diploma in Acupuncture      1\n",
      "DNB - General Surgery, MBBS                                                                                                                   1\n",
      "MBBS, Fellowship in Endocrinology, Diabetes & Metabolism                                                                                      1\n",
      "MBBS, MD - Radio Diagnosis/Radiology                                                                                                          1\n",
      "Name: Qualification, Length: 1420, dtype: int64\n",
      "\n",
      "9 years experience     323\n",
      "10 years experience    294\n",
      "11 years experience    288\n",
      "8 years experience     282\n",
      "12 years experience    279\n",
      "                      ... \n",
      "61 years experience      1\n",
      "64 years experience      1\n",
      "60 years experience      1\n",
      "65 years experience      1\n",
      "59 years experience      1\n",
      "Name: Experience, Length: 64, dtype: int64\n",
      "\n",
      "100%    684\n",
      "98%     290\n",
      "99%     259\n",
      "97%     241\n",
      "96%     220\n",
      "95%     178\n",
      "94%     115\n",
      "93%     109\n",
      "92%      66\n",
      "90%      66\n",
      "91%      60\n",
      "89%      42\n",
      "88%      41\n",
      "85%      27\n",
      "82%      23\n",
      "83%      21\n",
      "86%      21\n",
      "80%      19\n",
      "77%      16\n",
      "87%      14\n",
      "79%      13\n",
      "84%      13\n",
      "81%      12\n",
      "67%      12\n",
      "71%       9\n",
      "76%       9\n",
      "73%       8\n",
      "75%       8\n",
      "60%       7\n",
      "74%       7\n",
      "78%       6\n",
      "56%       5\n",
      "68%       5\n",
      "69%       4\n",
      "70%       4\n",
      "72%       3\n",
      "57%       3\n",
      "64%       2\n",
      "55%       2\n",
      "62%       2\n",
      "33%       2\n",
      "63%       2\n",
      "53%       1\n",
      "47%       1\n",
      "48%       1\n",
      "58%       1\n",
      "40%       1\n",
      "7%        1\n",
      "45%       1\n",
      "36%       1\n",
      "65%       1\n",
      "Name: Rating, dtype: int64\n",
      "\n",
      "HSR Layout, Bangalore       75\n",
      "Andheri West, Mumbai        70\n",
      "Dwarka, Delhi               67\n",
      "Banjara Hills, Hyderabad    64\n",
      "Mulund West, Mumbai         54\n",
      "                            ..\n",
      "Kovaipudur, Coimbatore       1\n",
      "Model Town 1, Delhi          1\n",
      "Mulanthuruthy, Ernakulam     1\n",
      "Paradise, Hyderabad          1\n",
      "Bolarum, Hyderabad           1\n",
      "Name: Place, Length: 877, dtype: int64\n",
      "\n",
      "Dentist             1397\n",
      "General Medicine    1173\n",
      "Dermatologists      1034\n",
      "Homeopath            843\n",
      "Ayurveda             786\n",
      "ENT Specialist       728\n",
      "Name: Profile, dtype: int64\n",
      "\n",
      "Acrylic Partial Denture Crowns and Bridges Fixing Artificial Teeth                      40\n",
      "Tooth Extraction Dental Fillings Scaling / Polishing                                    12\n",
      "Dental Fillings Zirconia Crowns Dental Implant Fixing                                   12\n",
      "Skin Disease Treatment Kidney Stone Treatment Gall Bladder (Biliary) Stone Treatment     9\n",
      "Skin Allergy Treatment Skin Allergies Dermabrasion                                       9\n",
      "                                                                                        ..\n",
      "Cleft Lip Repair Cleft Lip and Palate Rhinoplasty                                        1\n",
      "Line and Wrinkle Smoothing Androgenetic Alopecia treatment Laser Hair Removal - Face     1\n",
      "Rajouri Garden, Delhi ₹250 Visits Today                                                  1\n",
      "82% 5 Feedback Secunderabad, Hyderabad                                                   1\n",
      "Oral Surgery Procedures Oral & Maxillofacial Surgery Facial Trauma                       1\n",
      "Name: Miscellaneous_Info, Length: 2998, dtype: int64\n",
      "\n"
     ]
    }
   ],
   "source": [
    "#Lets chcek the value counts of object type columns in train datadet\n",
    "for col in df_train.columns:\n",
    "    if df_train[col].dtype==\"object\":\n",
    "        print(df_train[col].value_counts())\n",
    "        print()"
   ]
  },
  {
   "cell_type": "code",
   "execution_count": 10,
   "metadata": {},
   "outputs": [
    {
     "name": "stdout",
     "output_type": "stream",
     "text": [
      "BAMS                                                                          153\n",
      "BHMS                                                                          150\n",
      "BDS                                                                           144\n",
      "MBBS                                                                          107\n",
      "MBBS, MD - Dermatology                                                         64\n",
      "                                                                             ... \n",
      "BDS, MDS - Prosthodontist And Crown Bridge, Fellowship in Oral implantlogy      1\n",
      "FWFO, FPFA                                                                      1\n",
      "DPM (Psychiatry), MBBS                                                          1\n",
      "MBBS, Diploma in Anesthesiology, Certificate in Acupuncture                     1\n",
      "BDS, MDS - Orthodontics, Certificate of Oral Implantology                       1\n",
      "Name: Qualification, Length: 630, dtype: int64\n",
      "\n",
      "10 years experience    110\n",
      "8 years experience      98\n",
      "9 years experience      96\n",
      "19 years experience     92\n",
      "7 years experience      89\n",
      "11 years experience     86\n",
      "13 years experience     83\n",
      "14 years experience     81\n",
      "12 years experience     79\n",
      "17 years experience     72\n",
      "18 years experience     70\n",
      "6 years experience      62\n",
      "15 years experience     57\n",
      "16 years experience     51\n",
      "5 years experience      50\n",
      "23 years experience     49\n",
      "20 years experience     48\n",
      "21 years experience     48\n",
      "29 years experience     46\n",
      "4 years experience      44\n",
      "22 years experience     37\n",
      "24 years experience     34\n",
      "25 years experience     33\n",
      "3 years experience      33\n",
      "26 years experience     32\n",
      "0 years experience      31\n",
      "28 years experience     29\n",
      "36 years experience     27\n",
      "27 years experience     27\n",
      "34 years experience     27\n",
      "31 years experience     26\n",
      "38 years experience     23\n",
      "30 years experience     18\n",
      "32 years experience     16\n",
      "44 years experience     16\n",
      "40 years experience     15\n",
      "37 years experience     14\n",
      "39 years experience     13\n",
      "35 years experience     13\n",
      "41 years experience     12\n",
      "46 years experience     11\n",
      "33 years experience     11\n",
      "2 years experience      11\n",
      "43 years experience     10\n",
      "42 years experience     10\n",
      "47 years experience      9\n",
      "49 years experience      8\n",
      "45 years experience      7\n",
      "48 years experience      6\n",
      "59 years experience      4\n",
      "51 years experience      3\n",
      "50 years experience      3\n",
      "54 years experience      2\n",
      "52 years experience      2\n",
      "65 years experience      1\n",
      "56 years experience      1\n",
      "53 years experience      1\n",
      "Name: Experience, dtype: int64\n",
      "\n",
      "100%    223\n",
      "98%     112\n",
      "97%      84\n",
      "99%      68\n",
      "96%      65\n",
      "94%      51\n",
      "95%      47\n",
      "93%      34\n",
      "90%      29\n",
      "92%      29\n",
      "91%      26\n",
      "88%      13\n",
      "87%      11\n",
      "89%      11\n",
      "83%      11\n",
      "82%       9\n",
      "85%       8\n",
      "84%       7\n",
      "71%       7\n",
      "80%       7\n",
      "86%       6\n",
      "73%       5\n",
      "67%       5\n",
      "76%       4\n",
      "60%       4\n",
      "70%       4\n",
      "55%       3\n",
      "81%       3\n",
      "64%       2\n",
      "79%       2\n",
      "69%       2\n",
      "53%       1\n",
      "77%       1\n",
      "65%       1\n",
      "52%       1\n",
      "78%       1\n",
      "Name: Rating, dtype: int64\n",
      "\n",
      "Andheri West, Mumbai             27\n",
      "Mulund West, Mumbai              27\n",
      "Dwarka, Delhi                    26\n",
      "Whitefield, Bangalore            23\n",
      "HSR Layout, Bangalore            22\n",
      "                                 ..\n",
      "Neredmet, Hyderabad               1\n",
      "Goregaon, Mumbai                  1\n",
      "Nallagandla, Hyderabad            1\n",
      "Vanchiyur, Thiruvananthapuram     1\n",
      "JP Nagar 5 Phase, Bangalore       1\n",
      "Name: Place, Length: 592, dtype: int64\n",
      "\n",
      "General Medicine    444\n",
      "Dentist             441\n",
      "Dermatologists      339\n",
      "Homeopath           277\n",
      "Ayurveda            251\n",
      "ENT Specialist      235\n",
      "Name: Profile, dtype: int64\n",
      "\n",
      "Acrylic Partial Denture Crowns and Bridges Fixing Artificial Teeth             10\n",
      "Skin Allergy Treatment Skin Allergies Dermabrasion                              9\n",
      "Dermabrasion Laser Resurfacing Acne / Pimples Treatment                         6\n",
      "Crowns and Bridges Fixing Complete/Partial Dentures Fixing Tooth Extraction     4\n",
      "Tooth Extraction Dental Fillings Scaling / Polishing                            4\n",
      "                                                                               ..\n",
      "100% 11 Feedback Dwarka, Delhi                                                  1\n",
      "100% 9 Feedback Kammana Halli, Bangalore                                        1\n",
      "Thyroid Disorder Treatment Diabetes Management HIV Counselling                  1\n",
      "Piles Treatment (Non Surgical) Fistula Pilonidal Hair Sinus                     1\n",
      "Cosmetic/ Aesthetic Dentistry Tooth Extraction Dental Fillings                  1\n",
      "Name: Miscellaneous_Info, Length: 1084, dtype: int64\n",
      "\n"
     ]
    }
   ],
   "source": [
    "#Lets chcek the value counts of object type columns in test dataset\n",
    "for col in df_test.columns:\n",
    "    if df_test[col].dtype==\"object\":\n",
    "        print(df_test[col].value_counts())\n",
    "        print()"
   ]
  },
  {
   "cell_type": "markdown",
   "metadata": {},
   "source": [
    "\n",
    "\n",
    "\n",
    "Observations: We can see that all the columns except fees nees to be preprocessed by spliiting , filling nan values etc..now \n",
    "              we will fill these null values and do necessary changes in columns one by one.\n",
    "              "
   ]
  },
  {
   "cell_type": "code",
   "execution_count": 11,
   "metadata": {},
   "outputs": [],
   "source": [
    "#fisrt we need to strip of \" years experience\"\n",
    "df_train[\"Experience\"]=df_train[\"Experience\"].str.strip(\" years experience\")\n",
    "df_test[\"Experience\"]=df_test[\"Experience\"].str.strip(\" years experience\")"
   ]
  },
  {
   "cell_type": "code",
   "execution_count": 12,
   "metadata": {},
   "outputs": [],
   "source": [
    "#Now we need to convert the Experience column to int\n",
    "df_train[\"Experience\"]=df_train[\"Experience\"].astype(int)\n",
    "df_test[\"Experience\"]=df_test[\"Experience\"].astype(int)"
   ]
  },
  {
   "cell_type": "code",
   "execution_count": 13,
   "metadata": {},
   "outputs": [
    {
     "name": "stdout",
     "output_type": "stream",
     "text": [
      "0       24\n",
      "1       12\n",
      "2        9\n",
      "3       12\n",
      "4       20\n",
      "        ..\n",
      "5956    19\n",
      "5957    33\n",
      "5958    41\n",
      "5959    15\n",
      "5960    17\n",
      "Name: Experience, Length: 5961, dtype: int32\n",
      "\n",
      "\n",
      "0       35\n",
      "1       31\n",
      "2       40\n",
      "3        0\n",
      "4       16\n",
      "        ..\n",
      "1982    10\n",
      "1983     4\n",
      "1984     9\n",
      "1985    12\n",
      "1986     8\n",
      "Name: Experience, Length: 1987, dtype: int32\n"
     ]
    }
   ],
   "source": [
    "# lets check Experience columns \n",
    "print(df_train['Experience'])\n",
    "print('\\n')\n",
    "print(df_test['Experience'])"
   ]
  },
  {
   "cell_type": "code",
   "execution_count": 14,
   "metadata": {},
   "outputs": [],
   "source": [
    "#Lets strip the\"%\" of Rating and converting into float\n",
    "df_train[\"Rating\"]=df_train[\"Rating\"].str.strip(\"%\").astype(float)\n",
    "df_test[\"Rating\"]=df_test[\"Rating\"].str.strip(\"%\").astype(float)"
   ]
  },
  {
   "cell_type": "code",
   "execution_count": 15,
   "metadata": {},
   "outputs": [],
   "source": [
    "#Lets replace the null values in rating with 0 which is a new rating value as we cant impute it with existing one.\n",
    "df_train[\"Rating\"].fillna(0,inplace=True)\n",
    "df_test[\"Rating\"].fillna(0,inplace=True)"
   ]
  },
  {
   "cell_type": "code",
   "execution_count": 16,
   "metadata": {},
   "outputs": [
    {
     "data": {
      "text/plain": [
       "HSR Layout, Bangalore       75\n",
       "Andheri West, Mumbai        70\n",
       "Dwarka, Delhi               67\n",
       "Banjara Hills, Hyderabad    64\n",
       "Mulund West, Mumbai         54\n",
       "                            ..\n",
       "Kovaipudur, Coimbatore       1\n",
       "Model Town 1, Delhi          1\n",
       "Mulanthuruthy, Ernakulam     1\n",
       "Paradise, Hyderabad          1\n",
       "Bolarum, Hyderabad           1\n",
       "Name: Place, Length: 877, dtype: int64"
      ]
     },
     "execution_count": 16,
     "metadata": {},
     "output_type": "execute_result"
    }
   ],
   "source": [
    "#Lets chcek the value counts\n",
    "df_train[\"Place\"].value_counts()"
   ]
  },
  {
   "cell_type": "code",
   "execution_count": 17,
   "metadata": {},
   "outputs": [
    {
     "data": {
      "text/plain": [
       "Andheri West, Mumbai             27\n",
       "Mulund West, Mumbai              27\n",
       "Dwarka, Delhi                    26\n",
       "Whitefield, Bangalore            23\n",
       "HSR Layout, Bangalore            22\n",
       "                                 ..\n",
       "Neredmet, Hyderabad               1\n",
       "Goregaon, Mumbai                  1\n",
       "Nallagandla, Hyderabad            1\n",
       "Vanchiyur, Thiruvananthapuram     1\n",
       "JP Nagar 5 Phase, Bangalore       1\n",
       "Name: Place, Length: 592, dtype: int64"
      ]
     },
     "execution_count": 17,
     "metadata": {},
     "output_type": "execute_result"
    }
   ],
   "source": [
    "df_test[\"Place\"].value_counts()"
   ]
  },
  {
   "cell_type": "code",
   "execution_count": 18,
   "metadata": {},
   "outputs": [
    {
     "data": {
      "text/html": [
       "<div>\n",
       "<style scoped>\n",
       "    .dataframe tbody tr th:only-of-type {\n",
       "        vertical-align: middle;\n",
       "    }\n",
       "\n",
       "    .dataframe tbody tr th {\n",
       "        vertical-align: top;\n",
       "    }\n",
       "\n",
       "    .dataframe thead th {\n",
       "        text-align: right;\n",
       "    }\n",
       "</style>\n",
       "<table border=\"1\" class=\"dataframe\">\n",
       "  <thead>\n",
       "    <tr style=\"text-align: right;\">\n",
       "      <th></th>\n",
       "      <th>Qualification</th>\n",
       "      <th>Experience</th>\n",
       "      <th>Rating</th>\n",
       "      <th>Place</th>\n",
       "      <th>Profile</th>\n",
       "      <th>Miscellaneous_Info</th>\n",
       "      <th>Fees</th>\n",
       "    </tr>\n",
       "  </thead>\n",
       "  <tbody>\n",
       "    <tr>\n",
       "      <th>91</th>\n",
       "      <td>Get inspired by remarkable stories of people l...</td>\n",
       "      <td>0</td>\n",
       "      <td>0.0</td>\n",
       "      <td>NaN</td>\n",
       "      <td>Dermatologists</td>\n",
       "      <td>NaN</td>\n",
       "      <td>100</td>\n",
       "    </tr>\n",
       "    <tr>\n",
       "      <th>502</th>\n",
       "      <td>Get inspired by remarkable stories of people l...</td>\n",
       "      <td>0</td>\n",
       "      <td>0.0</td>\n",
       "      <td>NaN</td>\n",
       "      <td>Dermatologists</td>\n",
       "      <td>NaN</td>\n",
       "      <td>100</td>\n",
       "    </tr>\n",
       "    <tr>\n",
       "      <th>599</th>\n",
       "      <td>Get inspired by remarkable stories of people l...</td>\n",
       "      <td>0</td>\n",
       "      <td>0.0</td>\n",
       "      <td>NaN</td>\n",
       "      <td>Dermatologists</td>\n",
       "      <td>NaN</td>\n",
       "      <td>100</td>\n",
       "    </tr>\n",
       "    <tr>\n",
       "      <th>605</th>\n",
       "      <td>Get inspired by remarkable stories of people l...</td>\n",
       "      <td>0</td>\n",
       "      <td>0.0</td>\n",
       "      <td>NaN</td>\n",
       "      <td>Dermatologists</td>\n",
       "      <td>NaN</td>\n",
       "      <td>100</td>\n",
       "    </tr>\n",
       "    <tr>\n",
       "      <th>724</th>\n",
       "      <td>Get inspired by remarkable stories of people l...</td>\n",
       "      <td>0</td>\n",
       "      <td>0.0</td>\n",
       "      <td>NaN</td>\n",
       "      <td>Dermatologists</td>\n",
       "      <td>NaN</td>\n",
       "      <td>100</td>\n",
       "    </tr>\n",
       "    <tr>\n",
       "      <th>1002</th>\n",
       "      <td>Get inspired by remarkable stories of people l...</td>\n",
       "      <td>0</td>\n",
       "      <td>0.0</td>\n",
       "      <td>NaN</td>\n",
       "      <td>Dermatologists</td>\n",
       "      <td>NaN</td>\n",
       "      <td>100</td>\n",
       "    </tr>\n",
       "    <tr>\n",
       "      <th>1083</th>\n",
       "      <td>Get inspired by remarkable stories of people l...</td>\n",
       "      <td>0</td>\n",
       "      <td>0.0</td>\n",
       "      <td>NaN</td>\n",
       "      <td>Dermatologists</td>\n",
       "      <td>NaN</td>\n",
       "      <td>100</td>\n",
       "    </tr>\n",
       "    <tr>\n",
       "      <th>1210</th>\n",
       "      <td>Get inspired by remarkable stories of people l...</td>\n",
       "      <td>0</td>\n",
       "      <td>0.0</td>\n",
       "      <td>NaN</td>\n",
       "      <td>Dermatologists</td>\n",
       "      <td>NaN</td>\n",
       "      <td>100</td>\n",
       "    </tr>\n",
       "    <tr>\n",
       "      <th>2078</th>\n",
       "      <td>Get inspired by remarkable stories of people l...</td>\n",
       "      <td>0</td>\n",
       "      <td>0.0</td>\n",
       "      <td>NaN</td>\n",
       "      <td>Dermatologists</td>\n",
       "      <td>NaN</td>\n",
       "      <td>100</td>\n",
       "    </tr>\n",
       "    <tr>\n",
       "      <th>2178</th>\n",
       "      <td>Get inspired by remarkable stories of people l...</td>\n",
       "      <td>0</td>\n",
       "      <td>0.0</td>\n",
       "      <td>NaN</td>\n",
       "      <td>Dermatologists</td>\n",
       "      <td>NaN</td>\n",
       "      <td>100</td>\n",
       "    </tr>\n",
       "    <tr>\n",
       "      <th>2328</th>\n",
       "      <td>Get inspired by remarkable stories of people l...</td>\n",
       "      <td>0</td>\n",
       "      <td>0.0</td>\n",
       "      <td>NaN</td>\n",
       "      <td>Dermatologists</td>\n",
       "      <td>NaN</td>\n",
       "      <td>100</td>\n",
       "    </tr>\n",
       "    <tr>\n",
       "      <th>3099</th>\n",
       "      <td>Get inspired by remarkable stories of people l...</td>\n",
       "      <td>0</td>\n",
       "      <td>0.0</td>\n",
       "      <td>NaN</td>\n",
       "      <td>Dermatologists</td>\n",
       "      <td>NaN</td>\n",
       "      <td>100</td>\n",
       "    </tr>\n",
       "    <tr>\n",
       "      <th>3228</th>\n",
       "      <td>Get inspired by remarkable stories of people l...</td>\n",
       "      <td>0</td>\n",
       "      <td>0.0</td>\n",
       "      <td>NaN</td>\n",
       "      <td>Dermatologists</td>\n",
       "      <td>NaN</td>\n",
       "      <td>100</td>\n",
       "    </tr>\n",
       "    <tr>\n",
       "      <th>3418</th>\n",
       "      <td>Get inspired by remarkable stories of people l...</td>\n",
       "      <td>0</td>\n",
       "      <td>0.0</td>\n",
       "      <td>NaN</td>\n",
       "      <td>Dermatologists</td>\n",
       "      <td>NaN</td>\n",
       "      <td>100</td>\n",
       "    </tr>\n",
       "    <tr>\n",
       "      <th>3443</th>\n",
       "      <td>Get inspired by remarkable stories of people l...</td>\n",
       "      <td>0</td>\n",
       "      <td>0.0</td>\n",
       "      <td>NaN</td>\n",
       "      <td>Dermatologists</td>\n",
       "      <td>NaN</td>\n",
       "      <td>100</td>\n",
       "    </tr>\n",
       "    <tr>\n",
       "      <th>3744</th>\n",
       "      <td>Get inspired by remarkable stories of people l...</td>\n",
       "      <td>0</td>\n",
       "      <td>0.0</td>\n",
       "      <td>NaN</td>\n",
       "      <td>Dermatologists</td>\n",
       "      <td>NaN</td>\n",
       "      <td>100</td>\n",
       "    </tr>\n",
       "    <tr>\n",
       "      <th>3804</th>\n",
       "      <td>Get inspired by remarkable stories of people l...</td>\n",
       "      <td>0</td>\n",
       "      <td>0.0</td>\n",
       "      <td>NaN</td>\n",
       "      <td>Dermatologists</td>\n",
       "      <td>NaN</td>\n",
       "      <td>100</td>\n",
       "    </tr>\n",
       "    <tr>\n",
       "      <th>4004</th>\n",
       "      <td>Get inspired by remarkable stories of people l...</td>\n",
       "      <td>0</td>\n",
       "      <td>0.0</td>\n",
       "      <td>NaN</td>\n",
       "      <td>Dermatologists</td>\n",
       "      <td>NaN</td>\n",
       "      <td>100</td>\n",
       "    </tr>\n",
       "    <tr>\n",
       "      <th>4758</th>\n",
       "      <td>Get inspired by remarkable stories of people l...</td>\n",
       "      <td>0</td>\n",
       "      <td>0.0</td>\n",
       "      <td>NaN</td>\n",
       "      <td>Dermatologists</td>\n",
       "      <td>NaN</td>\n",
       "      <td>100</td>\n",
       "    </tr>\n",
       "    <tr>\n",
       "      <th>4823</th>\n",
       "      <td>MBBS, DDVL</td>\n",
       "      <td>22</td>\n",
       "      <td>0.0</td>\n",
       "      <td>NaN</td>\n",
       "      <td>Dermatologists</td>\n",
       "      <td>NaN</td>\n",
       "      <td>150</td>\n",
       "    </tr>\n",
       "    <tr>\n",
       "      <th>4847</th>\n",
       "      <td>Get inspired by remarkable stories of people l...</td>\n",
       "      <td>0</td>\n",
       "      <td>0.0</td>\n",
       "      <td>NaN</td>\n",
       "      <td>Dermatologists</td>\n",
       "      <td>NaN</td>\n",
       "      <td>100</td>\n",
       "    </tr>\n",
       "    <tr>\n",
       "      <th>5058</th>\n",
       "      <td>Get inspired by remarkable stories of people l...</td>\n",
       "      <td>0</td>\n",
       "      <td>0.0</td>\n",
       "      <td>NaN</td>\n",
       "      <td>Dermatologists</td>\n",
       "      <td>NaN</td>\n",
       "      <td>100</td>\n",
       "    </tr>\n",
       "    <tr>\n",
       "      <th>5187</th>\n",
       "      <td>Get inspired by remarkable stories of people l...</td>\n",
       "      <td>0</td>\n",
       "      <td>0.0</td>\n",
       "      <td>NaN</td>\n",
       "      <td>Dermatologists</td>\n",
       "      <td>NaN</td>\n",
       "      <td>100</td>\n",
       "    </tr>\n",
       "    <tr>\n",
       "      <th>5551</th>\n",
       "      <td>Get inspired by remarkable stories of people l...</td>\n",
       "      <td>0</td>\n",
       "      <td>0.0</td>\n",
       "      <td>NaN</td>\n",
       "      <td>Dermatologists</td>\n",
       "      <td>NaN</td>\n",
       "      <td>100</td>\n",
       "    </tr>\n",
       "    <tr>\n",
       "      <th>5723</th>\n",
       "      <td>Get inspired by remarkable stories of people l...</td>\n",
       "      <td>0</td>\n",
       "      <td>0.0</td>\n",
       "      <td>NaN</td>\n",
       "      <td>Dermatologists</td>\n",
       "      <td>NaN</td>\n",
       "      <td>100</td>\n",
       "    </tr>\n",
       "  </tbody>\n",
       "</table>\n",
       "</div>"
      ],
      "text/plain": [
       "                                          Qualification  Experience  Rating  \\\n",
       "91    Get inspired by remarkable stories of people l...           0     0.0   \n",
       "502   Get inspired by remarkable stories of people l...           0     0.0   \n",
       "599   Get inspired by remarkable stories of people l...           0     0.0   \n",
       "605   Get inspired by remarkable stories of people l...           0     0.0   \n",
       "724   Get inspired by remarkable stories of people l...           0     0.0   \n",
       "1002  Get inspired by remarkable stories of people l...           0     0.0   \n",
       "1083  Get inspired by remarkable stories of people l...           0     0.0   \n",
       "1210  Get inspired by remarkable stories of people l...           0     0.0   \n",
       "2078  Get inspired by remarkable stories of people l...           0     0.0   \n",
       "2178  Get inspired by remarkable stories of people l...           0     0.0   \n",
       "2328  Get inspired by remarkable stories of people l...           0     0.0   \n",
       "3099  Get inspired by remarkable stories of people l...           0     0.0   \n",
       "3228  Get inspired by remarkable stories of people l...           0     0.0   \n",
       "3418  Get inspired by remarkable stories of people l...           0     0.0   \n",
       "3443  Get inspired by remarkable stories of people l...           0     0.0   \n",
       "3744  Get inspired by remarkable stories of people l...           0     0.0   \n",
       "3804  Get inspired by remarkable stories of people l...           0     0.0   \n",
       "4004  Get inspired by remarkable stories of people l...           0     0.0   \n",
       "4758  Get inspired by remarkable stories of people l...           0     0.0   \n",
       "4823                                         MBBS, DDVL          22     0.0   \n",
       "4847  Get inspired by remarkable stories of people l...           0     0.0   \n",
       "5058  Get inspired by remarkable stories of people l...           0     0.0   \n",
       "5187  Get inspired by remarkable stories of people l...           0     0.0   \n",
       "5551  Get inspired by remarkable stories of people l...           0     0.0   \n",
       "5723  Get inspired by remarkable stories of people l...           0     0.0   \n",
       "\n",
       "     Place         Profile Miscellaneous_Info  Fees  \n",
       "91     NaN  Dermatologists                NaN   100  \n",
       "502    NaN  Dermatologists                NaN   100  \n",
       "599    NaN  Dermatologists                NaN   100  \n",
       "605    NaN  Dermatologists                NaN   100  \n",
       "724    NaN  Dermatologists                NaN   100  \n",
       "1002   NaN  Dermatologists                NaN   100  \n",
       "1083   NaN  Dermatologists                NaN   100  \n",
       "1210   NaN  Dermatologists                NaN   100  \n",
       "2078   NaN  Dermatologists                NaN   100  \n",
       "2178   NaN  Dermatologists                NaN   100  \n",
       "2328   NaN  Dermatologists                NaN   100  \n",
       "3099   NaN  Dermatologists                NaN   100  \n",
       "3228   NaN  Dermatologists                NaN   100  \n",
       "3418   NaN  Dermatologists                NaN   100  \n",
       "3443   NaN  Dermatologists                NaN   100  \n",
       "3744   NaN  Dermatologists                NaN   100  \n",
       "3804   NaN  Dermatologists                NaN   100  \n",
       "4004   NaN  Dermatologists                NaN   100  \n",
       "4758   NaN  Dermatologists                NaN   100  \n",
       "4823   NaN  Dermatologists                NaN   150  \n",
       "4847   NaN  Dermatologists                NaN   100  \n",
       "5058   NaN  Dermatologists                NaN   100  \n",
       "5187   NaN  Dermatologists                NaN   100  \n",
       "5551   NaN  Dermatologists                NaN   100  \n",
       "5723   NaN  Dermatologists                NaN   100  "
      ]
     },
     "execution_count": 18,
     "metadata": {},
     "output_type": "execute_result"
    }
   ],
   "source": [
    "#Lets chcek the rows where null values are there\n",
    "df_train.loc[df_train[\"Place\"].isnull()]"
   ]
  },
  {
   "cell_type": "code",
   "execution_count": 19,
   "metadata": {},
   "outputs": [
    {
     "data": {
      "text/html": [
       "<div>\n",
       "<style scoped>\n",
       "    .dataframe tbody tr th:only-of-type {\n",
       "        vertical-align: middle;\n",
       "    }\n",
       "\n",
       "    .dataframe tbody tr th {\n",
       "        vertical-align: top;\n",
       "    }\n",
       "\n",
       "    .dataframe thead th {\n",
       "        text-align: right;\n",
       "    }\n",
       "</style>\n",
       "<table border=\"1\" class=\"dataframe\">\n",
       "  <thead>\n",
       "    <tr style=\"text-align: right;\">\n",
       "      <th></th>\n",
       "      <th>Qualification</th>\n",
       "      <th>Experience</th>\n",
       "      <th>Rating</th>\n",
       "      <th>Place</th>\n",
       "      <th>Profile</th>\n",
       "      <th>Miscellaneous_Info</th>\n",
       "    </tr>\n",
       "  </thead>\n",
       "  <tbody>\n",
       "    <tr>\n",
       "      <th>381</th>\n",
       "      <td>Get inspired by remarkable stories of people l...</td>\n",
       "      <td>0</td>\n",
       "      <td>0.0</td>\n",
       "      <td>NaN</td>\n",
       "      <td>Dermatologists</td>\n",
       "      <td>NaN</td>\n",
       "    </tr>\n",
       "    <tr>\n",
       "      <th>1494</th>\n",
       "      <td>Get inspired by remarkable stories of people l...</td>\n",
       "      <td>0</td>\n",
       "      <td>0.0</td>\n",
       "      <td>NaN</td>\n",
       "      <td>Dermatologists</td>\n",
       "      <td>NaN</td>\n",
       "    </tr>\n",
       "    <tr>\n",
       "      <th>1644</th>\n",
       "      <td>Get inspired by remarkable stories of people l...</td>\n",
       "      <td>0</td>\n",
       "      <td>0.0</td>\n",
       "      <td>NaN</td>\n",
       "      <td>Dermatologists</td>\n",
       "      <td>NaN</td>\n",
       "    </tr>\n",
       "    <tr>\n",
       "      <th>1838</th>\n",
       "      <td>Get inspired by remarkable stories of people l...</td>\n",
       "      <td>0</td>\n",
       "      <td>0.0</td>\n",
       "      <td>NaN</td>\n",
       "      <td>Dermatologists</td>\n",
       "      <td>NaN</td>\n",
       "    </tr>\n",
       "    <tr>\n",
       "      <th>1925</th>\n",
       "      <td>Get inspired by remarkable stories of people l...</td>\n",
       "      <td>0</td>\n",
       "      <td>0.0</td>\n",
       "      <td>NaN</td>\n",
       "      <td>Dermatologists</td>\n",
       "      <td>NaN</td>\n",
       "    </tr>\n",
       "    <tr>\n",
       "      <th>1930</th>\n",
       "      <td>Get inspired by remarkable stories of people l...</td>\n",
       "      <td>0</td>\n",
       "      <td>0.0</td>\n",
       "      <td>NaN</td>\n",
       "      <td>Dermatologists</td>\n",
       "      <td>NaN</td>\n",
       "    </tr>\n",
       "  </tbody>\n",
       "</table>\n",
       "</div>"
      ],
      "text/plain": [
       "                                          Qualification  Experience  Rating  \\\n",
       "381   Get inspired by remarkable stories of people l...           0     0.0   \n",
       "1494  Get inspired by remarkable stories of people l...           0     0.0   \n",
       "1644  Get inspired by remarkable stories of people l...           0     0.0   \n",
       "1838  Get inspired by remarkable stories of people l...           0     0.0   \n",
       "1925  Get inspired by remarkable stories of people l...           0     0.0   \n",
       "1930  Get inspired by remarkable stories of people l...           0     0.0   \n",
       "\n",
       "     Place         Profile Miscellaneous_Info  \n",
       "381    NaN  Dermatologists                NaN  \n",
       "1494   NaN  Dermatologists                NaN  \n",
       "1644   NaN  Dermatologists                NaN  \n",
       "1838   NaN  Dermatologists                NaN  \n",
       "1925   NaN  Dermatologists                NaN  \n",
       "1930   NaN  Dermatologists                NaN  "
      ]
     },
     "execution_count": 19,
     "metadata": {},
     "output_type": "execute_result"
    }
   ],
   "source": [
    "#Lets chcek the rows where null values are there\n",
    "df_test.loc[df_test[\"Place\"].isnull()]"
   ]
  },
  {
   "cell_type": "code",
   "execution_count": 20,
   "metadata": {},
   "outputs": [],
   "source": [
    "# filling nan values\n",
    "df_train['Place'].fillna('None,None',inplace=True)\n",
    "df_test['Place'].fillna('None,None',inplace=True)"
   ]
  },
  {
   "cell_type": "code",
   "execution_count": 21,
   "metadata": {},
   "outputs": [],
   "source": [
    "# Splitting the place column into two columns\n",
    "df_train['City'] = df_train['Place'].str.split(', ').str[-1]\n",
    "df_train['Area'] = df_train['Place'].str.split(', ').str[0]\n",
    "\n",
    "df_test['City'] = df_test['Place'].str.split(', ').str[-1]\n",
    "df_test['Area'] = df_test['Place'].str.split(', ').str[0]"
   ]
  },
  {
   "cell_type": "code",
   "execution_count": 22,
   "metadata": {},
   "outputs": [
    {
     "data": {
      "text/plain": [
       "(0, 0, 0, 0)"
      ]
     },
     "execution_count": 22,
     "metadata": {},
     "output_type": "execute_result"
    }
   ],
   "source": [
    "# checking for null values if any in two new columns\n",
    "df_train['Area'].isnull().sum(),df_test['Area'].isnull().sum(),df_train['City'].isnull().sum(),df_test['City'].isnull().sum()"
   ]
  },
  {
   "cell_type": "code",
   "execution_count": 23,
   "metadata": {},
   "outputs": [],
   "source": [
    "# dropping the place column:\n",
    "df_train.drop('Place',axis=1,inplace=True)\n",
    "df_test.drop('Place',axis=1,inplace=True)"
   ]
  },
  {
   "cell_type": "markdown",
   "metadata": {},
   "source": [
    "Qualification Column"
   ]
  },
  {
   "cell_type": "code",
   "execution_count": 24,
   "metadata": {},
   "outputs": [],
   "source": [
    "def changequali(x):\n",
    "    bans=x.split(' ')\n",
    "    sans=x.split(',')\n",
    "    if ',' not in x:\n",
    "        return bans[0]\n",
    "    else:\n",
    "        return sans[0]"
   ]
  },
  {
   "cell_type": "code",
   "execution_count": 25,
   "metadata": {},
   "outputs": [],
   "source": [
    "df_train['Qualification']=df_train['Qualification'].apply(changequali)\n",
    "df_test['Qualification']=df_test['Qualification'].apply(changequali)"
   ]
  },
  {
   "cell_type": "code",
   "execution_count": 26,
   "metadata": {},
   "outputs": [
    {
     "data": {
      "text/html": [
       "<div>\n",
       "<style scoped>\n",
       "    .dataframe tbody tr th:only-of-type {\n",
       "        vertical-align: middle;\n",
       "    }\n",
       "\n",
       "    .dataframe tbody tr th {\n",
       "        vertical-align: top;\n",
       "    }\n",
       "\n",
       "    .dataframe thead th {\n",
       "        text-align: right;\n",
       "    }\n",
       "</style>\n",
       "<table border=\"1\" class=\"dataframe\">\n",
       "  <thead>\n",
       "    <tr style=\"text-align: right;\">\n",
       "      <th></th>\n",
       "      <th>Qualification</th>\n",
       "      <th>Experience</th>\n",
       "      <th>Rating</th>\n",
       "      <th>Profile</th>\n",
       "      <th>Miscellaneous_Info</th>\n",
       "      <th>Fees</th>\n",
       "      <th>City</th>\n",
       "      <th>Area</th>\n",
       "    </tr>\n",
       "  </thead>\n",
       "  <tbody>\n",
       "    <tr>\n",
       "      <th>0</th>\n",
       "      <td>BHMS</td>\n",
       "      <td>24</td>\n",
       "      <td>100.0</td>\n",
       "      <td>Homeopath</td>\n",
       "      <td>100% 16 Feedback Kakkanad, Ernakulam</td>\n",
       "      <td>100</td>\n",
       "      <td>Ernakulam</td>\n",
       "      <td>Kakkanad</td>\n",
       "    </tr>\n",
       "    <tr>\n",
       "      <th>1</th>\n",
       "      <td>BAMS</td>\n",
       "      <td>12</td>\n",
       "      <td>98.0</td>\n",
       "      <td>Ayurveda</td>\n",
       "      <td>98% 76 Feedback Whitefield, Bangalore</td>\n",
       "      <td>350</td>\n",
       "      <td>Bangalore</td>\n",
       "      <td>Whitefield</td>\n",
       "    </tr>\n",
       "    <tr>\n",
       "      <th>2</th>\n",
       "      <td>MBBS</td>\n",
       "      <td>9</td>\n",
       "      <td>0.0</td>\n",
       "      <td>ENT Specialist</td>\n",
       "      <td>NaN</td>\n",
       "      <td>300</td>\n",
       "      <td>Bangalore</td>\n",
       "      <td>Mathikere - BEL</td>\n",
       "    </tr>\n",
       "    <tr>\n",
       "      <th>3</th>\n",
       "      <td>BSc - Zoology</td>\n",
       "      <td>12</td>\n",
       "      <td>0.0</td>\n",
       "      <td>Ayurveda</td>\n",
       "      <td>Bannerghatta Road, Bangalore ₹250 Available on...</td>\n",
       "      <td>250</td>\n",
       "      <td>Bangalore</td>\n",
       "      <td>Bannerghatta Road</td>\n",
       "    </tr>\n",
       "    <tr>\n",
       "      <th>4</th>\n",
       "      <td>BAMS</td>\n",
       "      <td>20</td>\n",
       "      <td>100.0</td>\n",
       "      <td>Ayurveda</td>\n",
       "      <td>100% 4 Feedback Keelkattalai, Chennai</td>\n",
       "      <td>250</td>\n",
       "      <td>Chennai</td>\n",
       "      <td>Keelkattalai</td>\n",
       "    </tr>\n",
       "    <tr>\n",
       "      <th>...</th>\n",
       "      <td>...</td>\n",
       "      <td>...</td>\n",
       "      <td>...</td>\n",
       "      <td>...</td>\n",
       "      <td>...</td>\n",
       "      <td>...</td>\n",
       "      <td>...</td>\n",
       "      <td>...</td>\n",
       "    </tr>\n",
       "    <tr>\n",
       "      <th>5956</th>\n",
       "      <td>MBBS</td>\n",
       "      <td>19</td>\n",
       "      <td>98.0</td>\n",
       "      <td>ENT Specialist</td>\n",
       "      <td>98% 45 Feedback Basavanagudi, Bangalore</td>\n",
       "      <td>300</td>\n",
       "      <td>Bangalore</td>\n",
       "      <td>Basavanagudi</td>\n",
       "    </tr>\n",
       "    <tr>\n",
       "      <th>5957</th>\n",
       "      <td>MBBS</td>\n",
       "      <td>33</td>\n",
       "      <td>0.0</td>\n",
       "      <td>General Medicine</td>\n",
       "      <td>NaN</td>\n",
       "      <td>100</td>\n",
       "      <td>Chennai</td>\n",
       "      <td>Nungambakkam</td>\n",
       "    </tr>\n",
       "    <tr>\n",
       "      <th>5958</th>\n",
       "      <td>MBBS</td>\n",
       "      <td>41</td>\n",
       "      <td>97.0</td>\n",
       "      <td>General Medicine</td>\n",
       "      <td>97% 11 Feedback Greater Kailash Part 2, Delhi</td>\n",
       "      <td>600</td>\n",
       "      <td>Delhi</td>\n",
       "      <td>Greater Kailash Part 2</td>\n",
       "    </tr>\n",
       "    <tr>\n",
       "      <th>5959</th>\n",
       "      <td>MBBS</td>\n",
       "      <td>15</td>\n",
       "      <td>90.0</td>\n",
       "      <td>General Medicine</td>\n",
       "      <td>General Medical Consultation Viral Fever Treat...</td>\n",
       "      <td>100</td>\n",
       "      <td>Mumbai</td>\n",
       "      <td>Vileparle West</td>\n",
       "    </tr>\n",
       "    <tr>\n",
       "      <th>5960</th>\n",
       "      <td>BDS</td>\n",
       "      <td>17</td>\n",
       "      <td>100.0</td>\n",
       "      <td>Dentist</td>\n",
       "      <td>Acrylic Partial Denture Crowns and Bridges Fix...</td>\n",
       "      <td>200</td>\n",
       "      <td>Delhi</td>\n",
       "      <td>Pitampura</td>\n",
       "    </tr>\n",
       "  </tbody>\n",
       "</table>\n",
       "<p>5961 rows × 8 columns</p>\n",
       "</div>"
      ],
      "text/plain": [
       "      Qualification  Experience  Rating           Profile  \\\n",
       "0              BHMS          24   100.0         Homeopath   \n",
       "1              BAMS          12    98.0          Ayurveda   \n",
       "2              MBBS           9     0.0    ENT Specialist   \n",
       "3     BSc - Zoology          12     0.0          Ayurveda   \n",
       "4              BAMS          20   100.0          Ayurveda   \n",
       "...             ...         ...     ...               ...   \n",
       "5956           MBBS          19    98.0    ENT Specialist   \n",
       "5957           MBBS          33     0.0  General Medicine   \n",
       "5958           MBBS          41    97.0  General Medicine   \n",
       "5959           MBBS          15    90.0  General Medicine   \n",
       "5960            BDS          17   100.0           Dentist   \n",
       "\n",
       "                                     Miscellaneous_Info  Fees       City  \\\n",
       "0                  100% 16 Feedback Kakkanad, Ernakulam   100  Ernakulam   \n",
       "1                 98% 76 Feedback Whitefield, Bangalore   350  Bangalore   \n",
       "2                                                   NaN   300  Bangalore   \n",
       "3     Bannerghatta Road, Bangalore ₹250 Available on...   250  Bangalore   \n",
       "4                 100% 4 Feedback Keelkattalai, Chennai   250    Chennai   \n",
       "...                                                 ...   ...        ...   \n",
       "5956            98% 45 Feedback Basavanagudi, Bangalore   300  Bangalore   \n",
       "5957                                                NaN   100    Chennai   \n",
       "5958      97% 11 Feedback Greater Kailash Part 2, Delhi   600      Delhi   \n",
       "5959  General Medical Consultation Viral Fever Treat...   100     Mumbai   \n",
       "5960  Acrylic Partial Denture Crowns and Bridges Fix...   200      Delhi   \n",
       "\n",
       "                        Area  \n",
       "0                   Kakkanad  \n",
       "1                 Whitefield  \n",
       "2            Mathikere - BEL  \n",
       "3          Bannerghatta Road  \n",
       "4               Keelkattalai  \n",
       "...                      ...  \n",
       "5956            Basavanagudi  \n",
       "5957            Nungambakkam  \n",
       "5958  Greater Kailash Part 2  \n",
       "5959          Vileparle West  \n",
       "5960               Pitampura  \n",
       "\n",
       "[5961 rows x 8 columns]"
      ]
     },
     "execution_count": 26,
     "metadata": {},
     "output_type": "execute_result"
    }
   ],
   "source": [
    "df_train"
   ]
  },
  {
   "cell_type": "code",
   "execution_count": 27,
   "metadata": {},
   "outputs": [],
   "source": [
    "def removeminus(x):\n",
    "    cabs=x.split('-')\n",
    "    if '-' in x:\n",
    "        return cabs[0]\n",
    "    else:\n",
    "        return x"
   ]
  },
  {
   "cell_type": "code",
   "execution_count": 28,
   "metadata": {},
   "outputs": [],
   "source": [
    "df_train['Qualification']=df_train['Qualification'].apply(removeminus)\n",
    "df_test['Qualification']=df_test['Qualification'].apply(removeminus)"
   ]
  },
  {
   "cell_type": "code",
   "execution_count": 29,
   "metadata": {},
   "outputs": [
    {
     "data": {
      "text/html": [
       "<div>\n",
       "<style scoped>\n",
       "    .dataframe tbody tr th:only-of-type {\n",
       "        vertical-align: middle;\n",
       "    }\n",
       "\n",
       "    .dataframe tbody tr th {\n",
       "        vertical-align: top;\n",
       "    }\n",
       "\n",
       "    .dataframe thead th {\n",
       "        text-align: right;\n",
       "    }\n",
       "</style>\n",
       "<table border=\"1\" class=\"dataframe\">\n",
       "  <thead>\n",
       "    <tr style=\"text-align: right;\">\n",
       "      <th></th>\n",
       "      <th>Qualification</th>\n",
       "      <th>Experience</th>\n",
       "      <th>Rating</th>\n",
       "      <th>Profile</th>\n",
       "      <th>Miscellaneous_Info</th>\n",
       "      <th>Fees</th>\n",
       "      <th>City</th>\n",
       "      <th>Area</th>\n",
       "    </tr>\n",
       "  </thead>\n",
       "  <tbody>\n",
       "    <tr>\n",
       "      <th>0</th>\n",
       "      <td>BHMS</td>\n",
       "      <td>24</td>\n",
       "      <td>100.0</td>\n",
       "      <td>Homeopath</td>\n",
       "      <td>100% 16 Feedback Kakkanad, Ernakulam</td>\n",
       "      <td>100</td>\n",
       "      <td>Ernakulam</td>\n",
       "      <td>Kakkanad</td>\n",
       "    </tr>\n",
       "    <tr>\n",
       "      <th>1</th>\n",
       "      <td>BAMS</td>\n",
       "      <td>12</td>\n",
       "      <td>98.0</td>\n",
       "      <td>Ayurveda</td>\n",
       "      <td>98% 76 Feedback Whitefield, Bangalore</td>\n",
       "      <td>350</td>\n",
       "      <td>Bangalore</td>\n",
       "      <td>Whitefield</td>\n",
       "    </tr>\n",
       "    <tr>\n",
       "      <th>2</th>\n",
       "      <td>MBBS</td>\n",
       "      <td>9</td>\n",
       "      <td>0.0</td>\n",
       "      <td>ENT Specialist</td>\n",
       "      <td>NaN</td>\n",
       "      <td>300</td>\n",
       "      <td>Bangalore</td>\n",
       "      <td>Mathikere - BEL</td>\n",
       "    </tr>\n",
       "    <tr>\n",
       "      <th>3</th>\n",
       "      <td>BSc</td>\n",
       "      <td>12</td>\n",
       "      <td>0.0</td>\n",
       "      <td>Ayurveda</td>\n",
       "      <td>Bannerghatta Road, Bangalore ₹250 Available on...</td>\n",
       "      <td>250</td>\n",
       "      <td>Bangalore</td>\n",
       "      <td>Bannerghatta Road</td>\n",
       "    </tr>\n",
       "    <tr>\n",
       "      <th>4</th>\n",
       "      <td>BAMS</td>\n",
       "      <td>20</td>\n",
       "      <td>100.0</td>\n",
       "      <td>Ayurveda</td>\n",
       "      <td>100% 4 Feedback Keelkattalai, Chennai</td>\n",
       "      <td>250</td>\n",
       "      <td>Chennai</td>\n",
       "      <td>Keelkattalai</td>\n",
       "    </tr>\n",
       "    <tr>\n",
       "      <th>...</th>\n",
       "      <td>...</td>\n",
       "      <td>...</td>\n",
       "      <td>...</td>\n",
       "      <td>...</td>\n",
       "      <td>...</td>\n",
       "      <td>...</td>\n",
       "      <td>...</td>\n",
       "      <td>...</td>\n",
       "    </tr>\n",
       "    <tr>\n",
       "      <th>5956</th>\n",
       "      <td>MBBS</td>\n",
       "      <td>19</td>\n",
       "      <td>98.0</td>\n",
       "      <td>ENT Specialist</td>\n",
       "      <td>98% 45 Feedback Basavanagudi, Bangalore</td>\n",
       "      <td>300</td>\n",
       "      <td>Bangalore</td>\n",
       "      <td>Basavanagudi</td>\n",
       "    </tr>\n",
       "    <tr>\n",
       "      <th>5957</th>\n",
       "      <td>MBBS</td>\n",
       "      <td>33</td>\n",
       "      <td>0.0</td>\n",
       "      <td>General Medicine</td>\n",
       "      <td>NaN</td>\n",
       "      <td>100</td>\n",
       "      <td>Chennai</td>\n",
       "      <td>Nungambakkam</td>\n",
       "    </tr>\n",
       "    <tr>\n",
       "      <th>5958</th>\n",
       "      <td>MBBS</td>\n",
       "      <td>41</td>\n",
       "      <td>97.0</td>\n",
       "      <td>General Medicine</td>\n",
       "      <td>97% 11 Feedback Greater Kailash Part 2, Delhi</td>\n",
       "      <td>600</td>\n",
       "      <td>Delhi</td>\n",
       "      <td>Greater Kailash Part 2</td>\n",
       "    </tr>\n",
       "    <tr>\n",
       "      <th>5959</th>\n",
       "      <td>MBBS</td>\n",
       "      <td>15</td>\n",
       "      <td>90.0</td>\n",
       "      <td>General Medicine</td>\n",
       "      <td>General Medical Consultation Viral Fever Treat...</td>\n",
       "      <td>100</td>\n",
       "      <td>Mumbai</td>\n",
       "      <td>Vileparle West</td>\n",
       "    </tr>\n",
       "    <tr>\n",
       "      <th>5960</th>\n",
       "      <td>BDS</td>\n",
       "      <td>17</td>\n",
       "      <td>100.0</td>\n",
       "      <td>Dentist</td>\n",
       "      <td>Acrylic Partial Denture Crowns and Bridges Fix...</td>\n",
       "      <td>200</td>\n",
       "      <td>Delhi</td>\n",
       "      <td>Pitampura</td>\n",
       "    </tr>\n",
       "  </tbody>\n",
       "</table>\n",
       "<p>5961 rows × 8 columns</p>\n",
       "</div>"
      ],
      "text/plain": [
       "     Qualification  Experience  Rating           Profile  \\\n",
       "0             BHMS          24   100.0         Homeopath   \n",
       "1             BAMS          12    98.0          Ayurveda   \n",
       "2             MBBS           9     0.0    ENT Specialist   \n",
       "3             BSc           12     0.0          Ayurveda   \n",
       "4             BAMS          20   100.0          Ayurveda   \n",
       "...            ...         ...     ...               ...   \n",
       "5956          MBBS          19    98.0    ENT Specialist   \n",
       "5957          MBBS          33     0.0  General Medicine   \n",
       "5958          MBBS          41    97.0  General Medicine   \n",
       "5959          MBBS          15    90.0  General Medicine   \n",
       "5960           BDS          17   100.0           Dentist   \n",
       "\n",
       "                                     Miscellaneous_Info  Fees       City  \\\n",
       "0                  100% 16 Feedback Kakkanad, Ernakulam   100  Ernakulam   \n",
       "1                 98% 76 Feedback Whitefield, Bangalore   350  Bangalore   \n",
       "2                                                   NaN   300  Bangalore   \n",
       "3     Bannerghatta Road, Bangalore ₹250 Available on...   250  Bangalore   \n",
       "4                 100% 4 Feedback Keelkattalai, Chennai   250    Chennai   \n",
       "...                                                 ...   ...        ...   \n",
       "5956            98% 45 Feedback Basavanagudi, Bangalore   300  Bangalore   \n",
       "5957                                                NaN   100    Chennai   \n",
       "5958      97% 11 Feedback Greater Kailash Part 2, Delhi   600      Delhi   \n",
       "5959  General Medical Consultation Viral Fever Treat...   100     Mumbai   \n",
       "5960  Acrylic Partial Denture Crowns and Bridges Fix...   200      Delhi   \n",
       "\n",
       "                        Area  \n",
       "0                   Kakkanad  \n",
       "1                 Whitefield  \n",
       "2            Mathikere - BEL  \n",
       "3          Bannerghatta Road  \n",
       "4               Keelkattalai  \n",
       "...                      ...  \n",
       "5956            Basavanagudi  \n",
       "5957            Nungambakkam  \n",
       "5958  Greater Kailash Part 2  \n",
       "5959          Vileparle West  \n",
       "5960               Pitampura  \n",
       "\n",
       "[5961 rows x 8 columns]"
      ]
     },
     "execution_count": 29,
     "metadata": {},
     "output_type": "execute_result"
    }
   ],
   "source": [
    "df_train"
   ]
  },
  {
   "cell_type": "code",
   "execution_count": 30,
   "metadata": {},
   "outputs": [
    {
     "data": {
      "text/plain": [
       "MBBS                                                        2448\n",
       "BDS                                                         1208\n",
       "BAMS                                                         711\n",
       "BHMS                                                         706\n",
       "MD                                                           264\n",
       "                                                            ... \n",
       "Masters Diploma in Acupressure                                 1\n",
       "FRGUHS                                                         1\n",
       "MSc                                                            1\n",
       "Certificate in Dental Implants                                 1\n",
       "Fellowship and Diplomate in Implantology from ICOI (USA)       1\n",
       "Name: Qualification, Length: 102, dtype: int64"
      ]
     },
     "execution_count": 30,
     "metadata": {},
     "output_type": "execute_result"
    }
   ],
   "source": [
    "df_train['Qualification'].value_counts()"
   ]
  },
  {
   "cell_type": "code",
   "execution_count": 31,
   "metadata": {},
   "outputs": [
    {
     "data": {
      "text/plain": [
       "MBBS                                                                   865\n",
       "BDS                                                                    371\n",
       "BHMS                                                                   232\n",
       "BAMS                                                                   228\n",
       "MD                                                                      74\n",
       "MDS                                                                     48\n",
       "MS                                                                      31\n",
       "MD                                                                      18\n",
       "MDS                                                                     13\n",
       "DDVL                                                                    13\n",
       "DNB                                                                     13\n",
       "DHMS (Diploma in Homeopathic Medicine and Surgery)                       7\n",
       "B.Sc                                                                     6\n",
       "Diploma in Otorhinolaryngology (DLO)                                     6\n",
       "Get                                                                      6\n",
       "MS                                                                       5\n",
       "LCEH                                                                     5\n",
       "DHMS                                                                     4\n",
       "BSc                                                                      3\n",
       "BSAM                                                                     2\n",
       "BSc                                                                      2\n",
       "Diploma                                                                  2\n",
       "DM                                                                       2\n",
       "Diploma in Dermatology                                                   2\n",
       "FAMS                                                                     1\n",
       "MRCS (UK)                                                                1\n",
       "MRCGP                                                                    1\n",
       "Diploma in Child Health (DCH)                                            1\n",
       "FRCS                                                                     1\n",
       "Post Graduate Diploma in Diabetology (PGDD)(Madras Medical College)      1\n",
       "PhD                                                                      1\n",
       "FWFO                                                                     1\n",
       "BPTh/BPT                                                                 1\n",
       "DMS                                                                      1\n",
       "FICD                                                                     1\n",
       "Post Graduate Certificate in Endodontics (PGCE)                          1\n",
       "Fellowship in Aesthetic Medicine                                         1\n",
       "Doctor                                                                   1\n",
       "FRCP                                                                     1\n",
       "Certification in Aesthetic Dentistry                                     1\n",
       "Diploma in Aesthetic Medicine                                            1\n",
       "Certificate in Dental Implants                                           1\n",
       "M.D. (Ayu.)                                                              1\n",
       "FPFA                                                                     1\n",
       "DEHM                                                                     1\n",
       "Diploma in ENT                                                           1\n",
       "Diploma in Hospital Administration                                       1\n",
       "MRCP (UK)                                                                1\n",
       "DVD                                                                      1\n",
       "Diploma in Cardiology                                                    1\n",
       "DPM (Psychiatry)                                                         1\n",
       "DO                                                                       1\n",
       "M.S. (Ayurved) Stri Roga & Prasuti Tantra                                1\n",
       "Name: Qualification, dtype: int64"
      ]
     },
     "execution_count": 31,
     "metadata": {},
     "output_type": "execute_result"
    }
   ],
   "source": [
    "df_test['Qualification'].value_counts()"
   ]
  },
  {
   "cell_type": "code",
   "execution_count": 32,
   "metadata": {},
   "outputs": [],
   "source": [
    "def stillqua(x):\n",
    "    dab=x.strip('.')\n",
    "    tab= dab.lower()\n",
    "    mylist=['bsc','diploma','certifi','doctor']\n",
    "    if mylist[0] in tab:\n",
    "        return 'BSC'\n",
    "    elif mylist[1] in tab:\n",
    "        return 'Diploma'\n",
    "    elif mylist[2] in tab:\n",
    "        return 'Certification'\n",
    "    elif mylist[3] in tab:\n",
    "        return 'PhD'\n",
    "    else:\n",
    "        return x"
   ]
  },
  {
   "cell_type": "code",
   "execution_count": 33,
   "metadata": {},
   "outputs": [],
   "source": [
    "df_train['Qualification']=df_train['Qualification'].apply(stillqua)\n",
    "df_test['Qualification']=df_test['Qualification'].apply(stillqua)"
   ]
  },
  {
   "cell_type": "code",
   "execution_count": 34,
   "metadata": {},
   "outputs": [
    {
     "data": {
      "text/plain": [
       "MBBS                         2448\n",
       "BDS                          1208\n",
       "BAMS                          711\n",
       "BHMS                          706\n",
       "MD                            264\n",
       "                             ... \n",
       "DGO                             1\n",
       "Cochlear Implant Surgery        1\n",
       "MBA                             1\n",
       "M.Ch                            1\n",
       "Fellowship in Diabetology       1\n",
       "Name: Qualification, Length: 73, dtype: int64"
      ]
     },
     "execution_count": 34,
     "metadata": {},
     "output_type": "execute_result"
    }
   ],
   "source": [
    "df_train['Qualification'].value_counts()"
   ]
  },
  {
   "cell_type": "code",
   "execution_count": 35,
   "metadata": {},
   "outputs": [
    {
     "data": {
      "text/plain": [
       "MBBS                                         865\n",
       "BDS                                          371\n",
       "BHMS                                         232\n",
       "BAMS                                         228\n",
       "MD                                            74\n",
       "MDS                                           48\n",
       "MS                                            31\n",
       "Diploma                                       23\n",
       "MD                                            18\n",
       "MDS                                           13\n",
       "DDVL                                          13\n",
       "DNB                                           13\n",
       "B.Sc                                           6\n",
       "Get                                            6\n",
       "BSC                                            5\n",
       "MS                                             5\n",
       "LCEH                                           5\n",
       "DHMS                                           4\n",
       "Certification                                  3\n",
       "DM                                             2\n",
       "BSAM                                           2\n",
       "M.D. (Ayu.)                                    1\n",
       "FRCS                                           1\n",
       "DMS                                            1\n",
       "PhD                                            1\n",
       "FWFO                                           1\n",
       "BPTh/BPT                                       1\n",
       "MRCS (UK)                                      1\n",
       "PhD                                            1\n",
       "Fellowship in Aesthetic Medicine               1\n",
       "FRCP                                           1\n",
       "FAMS                                           1\n",
       "MRCGP                                          1\n",
       "FICD                                           1\n",
       "DVD                                            1\n",
       "FPFA                                           1\n",
       "DEHM                                           1\n",
       "DPM (Psychiatry)                               1\n",
       "DO                                             1\n",
       "MRCP (UK)                                      1\n",
       "M.S. (Ayurved) Stri Roga & Prasuti Tantra      1\n",
       "Name: Qualification, dtype: int64"
      ]
     },
     "execution_count": 35,
     "metadata": {},
     "output_type": "execute_result"
    }
   ],
   "source": [
    "df_test['Qualification'].value_counts()"
   ]
  },
  {
   "cell_type": "markdown",
   "metadata": {},
   "source": [
    "Miscellaneous_Info Info Column"
   ]
  },
  {
   "cell_type": "code",
   "execution_count": 36,
   "metadata": {},
   "outputs": [
    {
     "data": {
      "text/html": [
       "<div>\n",
       "<style scoped>\n",
       "    .dataframe tbody tr th:only-of-type {\n",
       "        vertical-align: middle;\n",
       "    }\n",
       "\n",
       "    .dataframe tbody tr th {\n",
       "        vertical-align: top;\n",
       "    }\n",
       "\n",
       "    .dataframe thead th {\n",
       "        text-align: right;\n",
       "    }\n",
       "</style>\n",
       "<table border=\"1\" class=\"dataframe\">\n",
       "  <thead>\n",
       "    <tr style=\"text-align: right;\">\n",
       "      <th></th>\n",
       "      <th>Rating</th>\n",
       "      <th>Miscellaneous_Info</th>\n",
       "    </tr>\n",
       "  </thead>\n",
       "  <tbody>\n",
       "    <tr>\n",
       "      <th>0</th>\n",
       "      <td>100.0</td>\n",
       "      <td>100% 16 Feedback Kakkanad, Ernakulam</td>\n",
       "    </tr>\n",
       "    <tr>\n",
       "      <th>1</th>\n",
       "      <td>98.0</td>\n",
       "      <td>98% 76 Feedback Whitefield, Bangalore</td>\n",
       "    </tr>\n",
       "    <tr>\n",
       "      <th>2</th>\n",
       "      <td>0.0</td>\n",
       "      <td>NaN</td>\n",
       "    </tr>\n",
       "    <tr>\n",
       "      <th>3</th>\n",
       "      <td>0.0</td>\n",
       "      <td>Bannerghatta Road, Bangalore ₹250 Available on Sun, 10 Feb</td>\n",
       "    </tr>\n",
       "    <tr>\n",
       "      <th>4</th>\n",
       "      <td>100.0</td>\n",
       "      <td>100% 4 Feedback Keelkattalai, Chennai</td>\n",
       "    </tr>\n",
       "    <tr>\n",
       "      <th>...</th>\n",
       "      <td>...</td>\n",
       "      <td>...</td>\n",
       "    </tr>\n",
       "    <tr>\n",
       "      <th>95</th>\n",
       "      <td>100.0</td>\n",
       "      <td>Pediaterics Skin Disorder Kidney Stone Treatment</td>\n",
       "    </tr>\n",
       "    <tr>\n",
       "      <th>96</th>\n",
       "      <td>97.0</td>\n",
       "      <td>General dermatology Botox Injections Skin Boosters and Fillers</td>\n",
       "    </tr>\n",
       "    <tr>\n",
       "      <th>97</th>\n",
       "      <td>0.0</td>\n",
       "      <td>NaN</td>\n",
       "    </tr>\n",
       "    <tr>\n",
       "      <th>98</th>\n",
       "      <td>0.0</td>\n",
       "      <td>NaN</td>\n",
       "    </tr>\n",
       "    <tr>\n",
       "      <th>99</th>\n",
       "      <td>98.0</td>\n",
       "      <td>Flap Surgery Dental Implant Fixing Periodontal Flap Surgery</td>\n",
       "    </tr>\n",
       "  </tbody>\n",
       "</table>\n",
       "<p>100 rows × 2 columns</p>\n",
       "</div>"
      ],
      "text/plain": [
       "    Rating                                              Miscellaneous_Info\n",
       "0   100.0   100% 16 Feedback Kakkanad, Ernakulam                          \n",
       "1   98.0    98% 76 Feedback Whitefield, Bangalore                         \n",
       "2   0.0     NaN                                                           \n",
       "3   0.0     Bannerghatta Road, Bangalore ₹250 Available on Sun, 10 Feb    \n",
       "4   100.0   100% 4 Feedback Keelkattalai, Chennai                         \n",
       "..    ...                                     ...                         \n",
       "95  100.0   Pediaterics Skin Disorder Kidney Stone Treatment              \n",
       "96  97.0    General dermatology Botox Injections Skin Boosters and Fillers\n",
       "97  0.0     NaN                                                           \n",
       "98  0.0     NaN                                                           \n",
       "99  98.0    Flap Surgery Dental Implant Fixing Periodontal Flap Surgery   \n",
       "\n",
       "[100 rows x 2 columns]"
      ]
     },
     "execution_count": 36,
     "metadata": {},
     "output_type": "execute_result"
    }
   ],
   "source": [
    "#Comparing the values in two columns\n",
    "pd.set_option('display.max_colwidth', -1)\n",
    "df_train[['Rating','Miscellaneous_Info']].head(100)"
   ]
  },
  {
   "cell_type": "code",
   "execution_count": 37,
   "metadata": {},
   "outputs": [
    {
     "data": {
      "text/html": [
       "<div>\n",
       "<style scoped>\n",
       "    .dataframe tbody tr th:only-of-type {\n",
       "        vertical-align: middle;\n",
       "    }\n",
       "\n",
       "    .dataframe tbody tr th {\n",
       "        vertical-align: top;\n",
       "    }\n",
       "\n",
       "    .dataframe thead th {\n",
       "        text-align: right;\n",
       "    }\n",
       "</style>\n",
       "<table border=\"1\" class=\"dataframe\">\n",
       "  <thead>\n",
       "    <tr style=\"text-align: right;\">\n",
       "      <th></th>\n",
       "      <th>Rating</th>\n",
       "      <th>Miscellaneous_Info</th>\n",
       "    </tr>\n",
       "  </thead>\n",
       "  <tbody>\n",
       "    <tr>\n",
       "      <th>0</th>\n",
       "      <td>0.0</td>\n",
       "      <td>NaN</td>\n",
       "    </tr>\n",
       "    <tr>\n",
       "      <th>1</th>\n",
       "      <td>0.0</td>\n",
       "      <td>NaN</td>\n",
       "    </tr>\n",
       "    <tr>\n",
       "      <th>2</th>\n",
       "      <td>70.0</td>\n",
       "      <td>70% 4 Feedback KK Nagar, Chennai</td>\n",
       "    </tr>\n",
       "    <tr>\n",
       "      <th>3</th>\n",
       "      <td>0.0</td>\n",
       "      <td>NaN</td>\n",
       "    </tr>\n",
       "    <tr>\n",
       "      <th>4</th>\n",
       "      <td>100.0</td>\n",
       "      <td>General Dentistry Conservative Dentistry Cosmetic/ Aesthetic Dentistry</td>\n",
       "    </tr>\n",
       "    <tr>\n",
       "      <th>...</th>\n",
       "      <td>...</td>\n",
       "      <td>...</td>\n",
       "    </tr>\n",
       "    <tr>\n",
       "      <th>95</th>\n",
       "      <td>100.0</td>\n",
       "      <td>100% 1 Feedback Ernakulam, Ernakulam</td>\n",
       "    </tr>\n",
       "    <tr>\n",
       "      <th>96</th>\n",
       "      <td>96.0</td>\n",
       "      <td>96% 59 Feedback Frazer Town, Bangalore</td>\n",
       "    </tr>\n",
       "    <tr>\n",
       "      <th>97</th>\n",
       "      <td>0.0</td>\n",
       "      <td>Homeopathy Acne / Pimples Treatment Hair Loss Treatment</td>\n",
       "    </tr>\n",
       "    <tr>\n",
       "      <th>98</th>\n",
       "      <td>0.0</td>\n",
       "      <td>NaN</td>\n",
       "    </tr>\n",
       "    <tr>\n",
       "      <th>99</th>\n",
       "      <td>95.0</td>\n",
       "      <td>95% 9 Feedback Bannerghatta Road, Bangalore</td>\n",
       "    </tr>\n",
       "  </tbody>\n",
       "</table>\n",
       "<p>100 rows × 2 columns</p>\n",
       "</div>"
      ],
      "text/plain": [
       "    Rating  \\\n",
       "0   0.0      \n",
       "1   0.0      \n",
       "2   70.0     \n",
       "3   0.0      \n",
       "4   100.0    \n",
       "..    ...    \n",
       "95  100.0    \n",
       "96  96.0     \n",
       "97  0.0      \n",
       "98  0.0      \n",
       "99  95.0     \n",
       "\n",
       "                                                        Miscellaneous_Info  \n",
       "0   NaN                                                                     \n",
       "1   NaN                                                                     \n",
       "2   70% 4 Feedback KK Nagar, Chennai                                        \n",
       "3   NaN                                                                     \n",
       "4   General Dentistry Conservative Dentistry Cosmetic/ Aesthetic Dentistry  \n",
       "..                                                                     ...  \n",
       "95  100% 1 Feedback Ernakulam, Ernakulam                                    \n",
       "96  96% 59 Feedback Frazer Town, Bangalore                                  \n",
       "97  Homeopathy Acne / Pimples Treatment Hair Loss Treatment                 \n",
       "98  NaN                                                                     \n",
       "99  95% 9 Feedback Bannerghatta Road, Bangalore                             \n",
       "\n",
       "[100 rows x 2 columns]"
      ]
     },
     "execution_count": 37,
     "metadata": {},
     "output_type": "execute_result"
    }
   ],
   "source": [
    "pd.set_option('display.max_colwidth', -1)\n",
    "df_test[['Rating','Miscellaneous_Info']].head(100)"
   ]
  },
  {
   "cell_type": "markdown",
   "metadata": {},
   "source": [
    "Observation: I seems like rating column is derived from Miscellaneous Info Column So we are dropping this column."
   ]
  },
  {
   "cell_type": "code",
   "execution_count": 38,
   "metadata": {},
   "outputs": [],
   "source": [
    "df_train.drop('Miscellaneous_Info',axis=1,inplace=True)\n",
    "df_test.drop('Miscellaneous_Info',axis=1,inplace=True)"
   ]
  },
  {
   "cell_type": "code",
   "execution_count": 39,
   "metadata": {},
   "outputs": [
    {
     "data": {
      "text/plain": [
       "(Qualification    0\n",
       " Experience       0\n",
       " Rating           0\n",
       " Profile          0\n",
       " Fees             0\n",
       " City             0\n",
       " Area             0\n",
       " dtype: int64,\n",
       " Qualification    0\n",
       " Experience       0\n",
       " Rating           0\n",
       " Profile          0\n",
       " City             0\n",
       " Area             0\n",
       " dtype: int64)"
      ]
     },
     "execution_count": 39,
     "metadata": {},
     "output_type": "execute_result"
    }
   ],
   "source": [
    "# Checking for null values again in the datasets\n",
    "df_train.isnull().sum(),df_test.isnull().sum()"
   ]
  },
  {
   "cell_type": "code",
   "execution_count": 40,
   "metadata": {},
   "outputs": [
    {
     "data": {
      "text/html": [
       "<div>\n",
       "<style scoped>\n",
       "    .dataframe tbody tr th:only-of-type {\n",
       "        vertical-align: middle;\n",
       "    }\n",
       "\n",
       "    .dataframe tbody tr th {\n",
       "        vertical-align: top;\n",
       "    }\n",
       "\n",
       "    .dataframe thead th {\n",
       "        text-align: right;\n",
       "    }\n",
       "</style>\n",
       "<table border=\"1\" class=\"dataframe\">\n",
       "  <thead>\n",
       "    <tr style=\"text-align: right;\">\n",
       "      <th></th>\n",
       "      <th>Experience</th>\n",
       "      <th>Rating</th>\n",
       "      <th>Fees</th>\n",
       "    </tr>\n",
       "  </thead>\n",
       "  <tbody>\n",
       "    <tr>\n",
       "      <th>count</th>\n",
       "      <td>5961.000000</td>\n",
       "      <td>5961.000000</td>\n",
       "      <td>5961.000000</td>\n",
       "    </tr>\n",
       "    <tr>\n",
       "      <th>mean</th>\n",
       "      <td>17.303976</td>\n",
       "      <td>42.217245</td>\n",
       "      <td>307.944640</td>\n",
       "    </tr>\n",
       "    <tr>\n",
       "      <th>std</th>\n",
       "      <td>11.142798</td>\n",
       "      <td>47.340934</td>\n",
       "      <td>190.920373</td>\n",
       "    </tr>\n",
       "    <tr>\n",
       "      <th>min</th>\n",
       "      <td>0.000000</td>\n",
       "      <td>0.000000</td>\n",
       "      <td>5.000000</td>\n",
       "    </tr>\n",
       "    <tr>\n",
       "      <th>25%</th>\n",
       "      <td>9.000000</td>\n",
       "      <td>0.000000</td>\n",
       "      <td>150.000000</td>\n",
       "    </tr>\n",
       "    <tr>\n",
       "      <th>50%</th>\n",
       "      <td>14.000000</td>\n",
       "      <td>0.000000</td>\n",
       "      <td>300.000000</td>\n",
       "    </tr>\n",
       "    <tr>\n",
       "      <th>75%</th>\n",
       "      <td>23.000000</td>\n",
       "      <td>96.000000</td>\n",
       "      <td>500.000000</td>\n",
       "    </tr>\n",
       "    <tr>\n",
       "      <th>max</th>\n",
       "      <td>66.000000</td>\n",
       "      <td>100.000000</td>\n",
       "      <td>950.000000</td>\n",
       "    </tr>\n",
       "  </tbody>\n",
       "</table>\n",
       "</div>"
      ],
      "text/plain": [
       "        Experience       Rating         Fees\n",
       "count  5961.000000  5961.000000  5961.000000\n",
       "mean   17.303976    42.217245    307.944640 \n",
       "std    11.142798    47.340934    190.920373 \n",
       "min    0.000000     0.000000     5.000000   \n",
       "25%    9.000000     0.000000     150.000000 \n",
       "50%    14.000000    0.000000     300.000000 \n",
       "75%    23.000000    96.000000    500.000000 \n",
       "max    66.000000    100.000000   950.000000 "
      ]
     },
     "execution_count": 40,
     "metadata": {},
     "output_type": "execute_result"
    }
   ],
   "source": [
    "df_train.describe()"
   ]
  },
  {
   "cell_type": "markdown",
   "metadata": {},
   "source": [
    "Observation:We can clearly see that minimum fees is rs 5 where as max is rs 950 and average fees is 307.944"
   ]
  },
  {
   "cell_type": "markdown",
   "metadata": {},
   "source": [
    "# Data Vizualization"
   ]
  },
  {
   "cell_type": "code",
   "execution_count": 41,
   "metadata": {},
   "outputs": [
    {
     "data": {
      "image/png": "[encoded data removed]",
      "text/plain": [
       "<Figure size 720x360 with 1 Axes>"
      ]
     },
     "metadata": {
      "needs_background": "light"
     },
     "output_type": "display_data"
    }
   ],
   "source": [
    "plt.figure(figsize=(10,5))\n",
    "sns.countplot(x='Fees',data=df_train)\n",
    "plt.xticks(fontsize = 8,rotation=90)\n",
    "plt.show()"
   ]
  },
  {
   "cell_type": "code",
   "execution_count": 42,
   "metadata": {},
   "outputs": [
    {
     "data": {
      "image/png": "[encoded data removed]",
      "text/plain": [
       "<Figure size 432x288 with 1 Axes>"
      ]
     },
     "metadata": {
      "needs_background": "light"
     },
     "output_type": "display_data"
    }
   ],
   "source": [
    "# checking mean for fees\n",
    "fees=df_train['Fees'].hist(bins=60)\n",
    "mean=np.mean(df_train['Fees'])\n",
    "plt.axvline(mean,linewidth=4,color='red',label='mean')\n",
    "plt.xlabel('FEES')\n",
    "plt.ylabel('COUNT')\n",
    "plt.legend()\n",
    "plt.show()"
   ]
  },
  {
   "cell_type": "code",
   "execution_count": 43,
   "metadata": {},
   "outputs": [
    {
     "data": {
      "image/png": "[encoded data removed]",
      "text/plain": [
       "<Figure size 720x360 with 1 Axes>"
      ]
     },
     "metadata": {
      "needs_background": "light"
     },
     "output_type": "display_data"
    }
   ],
   "source": [
    "\n",
    "plt.figure(figsize=(10,5))\n",
    "sns.barplot(x=\"Profile\",y=\"Fees\",data=df_train)\n",
    "plt.show()"
   ]
  },
  {
   "cell_type": "markdown",
   "metadata": {},
   "source": [
    "Observation: Ayurveda charges low while ENT and Dermatologist have highest charges"
   ]
  },
  {
   "cell_type": "code",
   "execution_count": 44,
   "metadata": {},
   "outputs": [
    {
     "data": {
      "image/png": "[encoded data removed]",
      "text/plain": [
       "<Figure size 720x360 with 1 Axes>"
      ]
     },
     "metadata": {
      "needs_background": "light"
     },
     "output_type": "display_data"
    }
   ],
   "source": [
    "#lets check the averge rate of doctors in a city\n",
    "plt.figure(figsize=(10,5))\n",
    "sns.barplot(x=\"City\",y=\"Fees\",data=df_train)\n",
    "plt.show()"
   ]
  },
  {
   "cell_type": "markdown",
   "metadata": {},
   "source": [
    "observation:In delhi averge fees is maximum compared to other cities"
   ]
  },
  {
   "cell_type": "code",
   "execution_count": 45,
   "metadata": {},
   "outputs": [
    {
     "data": {
      "image/png": "[encoded data removed]",
      "text/plain": [
       "<Figure size 720x360 with 1 Axes>"
      ]
     },
     "metadata": {
      "needs_background": "light"
     },
     "output_type": "display_data"
    }
   ],
   "source": [
    "plt.figure(figsize=(10,5))\n",
    "plt.scatter(df_train['Rating'],df_train['Fees'])\n",
    "plt.show()"
   ]
  },
  {
   "cell_type": "markdown",
   "metadata": {},
   "source": [
    "# EDA on Train Dataset"
   ]
  },
  {
   "cell_type": "code",
   "execution_count": 46,
   "metadata": {},
   "outputs": [
    {
     "data": {
      "text/plain": [
       "Qualification    object \n",
       "Experience       int32  \n",
       "Rating           float64\n",
       "Profile          object \n",
       "Fees             int64  \n",
       "City             object \n",
       "Area             object \n",
       "dtype: object"
      ]
     },
     "execution_count": 46,
     "metadata": {},
     "output_type": "execute_result"
    }
   ],
   "source": [
    "# Checking for datatypes again in the datasets\n",
    "df_train.dtypes"
   ]
  },
  {
   "cell_type": "code",
   "execution_count": 47,
   "metadata": {},
   "outputs": [],
   "source": [
    "# converting Categorical columns into numeric\n",
    "from sklearn.preprocessing import LabelEncoder\n",
    "le=LabelEncoder()\n",
    "list1=['Qualification','Profile','City','Area']\n",
    "for val in list1:\n",
    "    df_train[val]=le.fit_transform(df_train[val].astype(str))"
   ]
  },
  {
   "cell_type": "code",
   "execution_count": 48,
   "metadata": {},
   "outputs": [
    {
     "data": {
      "text/html": [
       "<div>\n",
       "<style scoped>\n",
       "    .dataframe tbody tr th:only-of-type {\n",
       "        vertical-align: middle;\n",
       "    }\n",
       "\n",
       "    .dataframe tbody tr th {\n",
       "        vertical-align: top;\n",
       "    }\n",
       "\n",
       "    .dataframe thead th {\n",
       "        text-align: right;\n",
       "    }\n",
       "</style>\n",
       "<table border=\"1\" class=\"dataframe\">\n",
       "  <thead>\n",
       "    <tr style=\"text-align: right;\">\n",
       "      <th></th>\n",
       "      <th>Qualification</th>\n",
       "      <th>Experience</th>\n",
       "      <th>Rating</th>\n",
       "      <th>Profile</th>\n",
       "      <th>Fees</th>\n",
       "      <th>City</th>\n",
       "      <th>Area</th>\n",
       "    </tr>\n",
       "  </thead>\n",
       "  <tbody>\n",
       "    <tr>\n",
       "      <th>Qualification</th>\n",
       "      <td>1.000000</td>\n",
       "      <td>0.228142</td>\n",
       "      <td>-0.009361</td>\n",
       "      <td>0.346272</td>\n",
       "      <td>0.249409</td>\n",
       "      <td>-0.030825</td>\n",
       "      <td>0.001258</td>\n",
       "    </tr>\n",
       "    <tr>\n",
       "      <th>Experience</th>\n",
       "      <td>0.228142</td>\n",
       "      <td>1.000000</td>\n",
       "      <td>-0.038569</td>\n",
       "      <td>0.202073</td>\n",
       "      <td>0.002117</td>\n",
       "      <td>0.019397</td>\n",
       "      <td>0.008540</td>\n",
       "    </tr>\n",
       "    <tr>\n",
       "      <th>Rating</th>\n",
       "      <td>-0.009361</td>\n",
       "      <td>-0.038569</td>\n",
       "      <td>1.000000</td>\n",
       "      <td>-0.126389</td>\n",
       "      <td>0.153273</td>\n",
       "      <td>-0.103637</td>\n",
       "      <td>-0.041175</td>\n",
       "    </tr>\n",
       "    <tr>\n",
       "      <th>Profile</th>\n",
       "      <td>0.346272</td>\n",
       "      <td>0.202073</td>\n",
       "      <td>-0.126389</td>\n",
       "      <td>1.000000</td>\n",
       "      <td>0.145226</td>\n",
       "      <td>-0.016824</td>\n",
       "      <td>0.018170</td>\n",
       "    </tr>\n",
       "    <tr>\n",
       "      <th>Fees</th>\n",
       "      <td>0.249409</td>\n",
       "      <td>0.002117</td>\n",
       "      <td>0.153273</td>\n",
       "      <td>0.145226</td>\n",
       "      <td>1.000000</td>\n",
       "      <td>-0.038232</td>\n",
       "      <td>-0.058259</td>\n",
       "    </tr>\n",
       "    <tr>\n",
       "      <th>City</th>\n",
       "      <td>-0.030825</td>\n",
       "      <td>0.019397</td>\n",
       "      <td>-0.103637</td>\n",
       "      <td>-0.016824</td>\n",
       "      <td>-0.038232</td>\n",
       "      <td>1.000000</td>\n",
       "      <td>-0.081507</td>\n",
       "    </tr>\n",
       "    <tr>\n",
       "      <th>Area</th>\n",
       "      <td>0.001258</td>\n",
       "      <td>0.008540</td>\n",
       "      <td>-0.041175</td>\n",
       "      <td>0.018170</td>\n",
       "      <td>-0.058259</td>\n",
       "      <td>-0.081507</td>\n",
       "      <td>1.000000</td>\n",
       "    </tr>\n",
       "  </tbody>\n",
       "</table>\n",
       "</div>"
      ],
      "text/plain": [
       "               Qualification  Experience    Rating   Profile      Fees  \\\n",
       "Qualification  1.000000       0.228142   -0.009361  0.346272  0.249409   \n",
       "Experience     0.228142       1.000000   -0.038569  0.202073  0.002117   \n",
       "Rating        -0.009361      -0.038569    1.000000 -0.126389  0.153273   \n",
       "Profile        0.346272       0.202073   -0.126389  1.000000  0.145226   \n",
       "Fees           0.249409       0.002117    0.153273  0.145226  1.000000   \n",
       "City          -0.030825       0.019397   -0.103637 -0.016824 -0.038232   \n",
       "Area           0.001258       0.008540   -0.041175  0.018170 -0.058259   \n",
       "\n",
       "                   City      Area  \n",
       "Qualification -0.030825  0.001258  \n",
       "Experience     0.019397  0.008540  \n",
       "Rating        -0.103637 -0.041175  \n",
       "Profile       -0.016824  0.018170  \n",
       "Fees          -0.038232 -0.058259  \n",
       "City           1.000000 -0.081507  \n",
       "Area          -0.081507  1.000000  "
      ]
     },
     "execution_count": 48,
     "metadata": {},
     "output_type": "execute_result"
    }
   ],
   "source": [
    "df_train.corr()"
   ]
  },
  {
   "cell_type": "markdown",
   "metadata": {},
   "source": [
    "Here we can see the correlation between the columns. For better understanding lets vizualize it through heatmap correlation"
   ]
  },
  {
   "cell_type": "code",
   "execution_count": 49,
   "metadata": {},
   "outputs": [
    {
     "data": {
      "image/png": "[encoded data removed]",
      "text/plain": [
       "<Figure size 576x648 with 2 Axes>"
      ]
     },
     "metadata": {
      "needs_background": "light"
     },
     "output_type": "display_data"
    }
   ],
   "source": [
    "# heatmap\n",
    "import seaborn as sns\n",
    "corr_hmap=df_train.corr()\n",
    "plt.figure(figsize=(8,9))\n",
    "sns.heatmap(corr_hmap,annot=True)\n",
    "plt.show()"
   ]
  },
  {
   "cell_type": "markdown",
   "metadata": {},
   "source": [
    "Lets plot graph for correlation now"
   ]
  },
  {
   "cell_type": "code",
   "execution_count": 50,
   "metadata": {},
   "outputs": [
    {
     "data": {
      "text/plain": [
       "Text(0.5, 1.0, 'Correlation with Target Variable')"
      ]
     },
     "execution_count": 50,
     "metadata": {},
     "output_type": "execute_result"
    },
    {
     "data": {
      "image/png": "[encoded data removed]",
      "text/plain": [
       "<Figure size 720x504 with 1 Axes>"
      ]
     },
     "metadata": {
      "needs_background": "light"
     },
     "output_type": "display_data"
    }
   ],
   "source": [
    "plt.figure(figsize=(10,7))\n",
    "df_train.drop('Fees',axis=1).corrwith(df_train['Fees']).plot(kind='bar',grid=True)\n",
    "plt.xticks(rotation=90)\n",
    "plt.title('Correlation with Target Variable')"
   ]
  },
  {
   "cell_type": "markdown",
   "metadata": {},
   "source": [
    "Observation: qualification is highly correlated with 0.25 percent where as area is negatively correlated with -0.05 percent"
   ]
  },
  {
   "cell_type": "code",
   "execution_count": 51,
   "metadata": {},
   "outputs": [
    {
     "data": {
      "text/plain": [
       "Qualification    AxesSubplot(0.125,0.536818;0.168478x0.343182)   \n",
       "Experience       AxesSubplot(0.327174,0.536818;0.168478x0.343182)\n",
       "Rating           AxesSubplot(0.529348,0.536818;0.168478x0.343182)\n",
       "Profile          AxesSubplot(0.731522,0.536818;0.168478x0.343182)\n",
       "Fees             AxesSubplot(0.125,0.125;0.168478x0.343182)      \n",
       "City             AxesSubplot(0.327174,0.125;0.168478x0.343182)   \n",
       "Area             AxesSubplot(0.529348,0.125;0.168478x0.343182)   \n",
       "dtype: object"
      ]
     },
     "execution_count": 51,
     "metadata": {},
     "output_type": "execute_result"
    },
    {
     "data": {
      "image/png": "[encoded data removed]",
      "text/plain": [
       "<Figure size 432x288 with 8 Axes>"
      ]
     },
     "metadata": {
      "needs_background": "light"
     },
     "output_type": "display_data"
    }
   ],
   "source": [
    "# Checking Outliers\n",
    "df_train.plot.box(subplots=True,layout=(2,4))"
   ]
  },
  {
   "cell_type": "code",
   "execution_count": 52,
   "metadata": {},
   "outputs": [
    {
     "name": "stdout",
     "output_type": "stream",
     "text": [
      "(5961, 7)\n",
      "(5903, 7)\n"
     ]
    }
   ],
   "source": [
    "# removing outliers\n",
    "\n",
    "from scipy.stats import zscore\n",
    "\n",
    "z=np.abs(zscore(df_train))\n",
    "print(df_train.shape)\n",
    "df_train=df_train.loc[(z<3).all(axis=1)]\n",
    "print(df_train.shape)"
   ]
  },
  {
   "cell_type": "markdown",
   "metadata": {},
   "source": [
    "# Spliting the data"
   ]
  },
  {
   "cell_type": "code",
   "execution_count": 53,
   "metadata": {},
   "outputs": [],
   "source": [
    "#splitting the data for training and test\n",
    "\n",
    "df_x=df_train.drop(columns=['Fees'])\n",
    "y=df_train['Fees']"
   ]
  },
  {
   "cell_type": "code",
   "execution_count": 54,
   "metadata": {},
   "outputs": [
    {
     "data": {
      "text/plain": [
       "Qualification   -0.094067\n",
       "Experience       0.897661\n",
       "Rating           0.240969\n",
       "Profile          0.121336\n",
       "City             0.045634\n",
       "Area             0.112377\n",
       "dtype: float64"
      ]
     },
     "execution_count": 54,
     "metadata": {},
     "output_type": "execute_result"
    }
   ],
   "source": [
    "df_x.skew()"
   ]
  },
  {
   "cell_type": "code",
   "execution_count": 55,
   "metadata": {},
   "outputs": [],
   "source": [
    "# treating skewness using log\n",
    "\n",
    "for col in df_x.columns:\n",
    "    if df_x.skew().loc[col]>0.55:\n",
    "        df_x[col]=np.sqrt(df_x[col])"
   ]
  },
  {
   "cell_type": "code",
   "execution_count": 56,
   "metadata": {},
   "outputs": [
    {
     "data": {
      "text/plain": [
       "Qualification   -0.094067\n",
       "Experience       0.023642\n",
       "Rating           0.240969\n",
       "Profile          0.121336\n",
       "City             0.045634\n",
       "Area             0.112377\n",
       "dtype: float64"
      ]
     },
     "execution_count": 56,
     "metadata": {},
     "output_type": "execute_result"
    }
   ],
   "source": [
    "df_x.skew()"
   ]
  },
  {
   "cell_type": "code",
   "execution_count": 57,
   "metadata": {},
   "outputs": [],
   "source": [
    "from sklearn.preprocessing import StandardScaler\n",
    "scale=StandardScaler()\n",
    "x=scale.fit_transform(df_x)"
   ]
  },
  {
   "cell_type": "code",
   "execution_count": 58,
   "metadata": {},
   "outputs": [],
   "source": [
    "from sklearn.model_selection import train_test_split\n",
    "x_train,x_test,y_train,y_test=train_test_split(x,y,test_size=.20,random_state=42)"
   ]
  },
  {
   "cell_type": "markdown",
   "metadata": {},
   "source": [
    "# Sending the data to Models"
   ]
  },
  {
   "cell_type": "code",
   "execution_count": 59,
   "metadata": {},
   "outputs": [],
   "source": [
    "from sklearn.linear_model import LinearRegression,Lasso,Ridge,ElasticNet\n",
    "from sklearn.svm import SVR\n",
    "from sklearn.tree import DecisionTreeRegressor\n",
    "from sklearn.neighbors import KNeighborsRegressor\n",
    "from sklearn.metrics import mean_squared_error,mean_absolute_error\n",
    "from sklearn.metrics import r2_score"
   ]
  },
  {
   "cell_type": "code",
   "execution_count": 60,
   "metadata": {},
   "outputs": [
    {
     "name": "stdout",
     "output_type": "stream",
     "text": [
      "Score of  LinearRegression()  is 0.09900987723453869\n",
      "Error:\n",
      "Mean Absolute Error: 147.65245730388813\n",
      "Mean Squared Error: 32685.92723619649\n",
      "Root Mean Squared Error: 180.79249773205882\n",
      "R2 Score: 0.09565900699085017\n",
      "**************************************************************************************************\n",
      "\n",
      "\n",
      "Score of  Lasso()  is 0.0988303180720903\n",
      "Error:\n",
      "Mean Absolute Error: 147.8125321303414\n",
      "Mean Squared Error: 32701.67379399039\n",
      "Root Mean Squared Error: 180.83604119198802\n",
      "R2 Score: 0.09522333760907287\n",
      "**************************************************************************************************\n",
      "\n",
      "\n",
      "Score of  Ridge()  is 0.09900987333612565\n",
      "Error:\n",
      "Mean Absolute Error: 147.65340875316406\n",
      "Mean Squared Error: 32685.96018547069\n",
      "Root Mean Squared Error: 180.79258885659746\n",
      "R2 Score: 0.09565809536368008\n",
      "**************************************************************************************************\n",
      "\n",
      "\n",
      "Score of  ElasticNet()  is 0.08877495369302701\n",
      "Error:\n",
      "Mean Absolute Error: 149.54626347562422\n",
      "Mean Squared Error: 33076.684144457526\n",
      "Root Mean Squared Error: 181.86996493224913\n",
      "R2 Score: 0.08484770315698986\n",
      "**************************************************************************************************\n",
      "\n",
      "\n",
      "Score of  SVR()  is 0.0728294864016118\n",
      "Error:\n",
      "Mean Absolute Error: 144.56470147603667\n",
      "Mean Squared Error: 33709.138838352235\n",
      "Root Mean Squared Error: 183.6004870319037\n",
      "R2 Score: 0.06734920290711299\n",
      "**************************************************************************************************\n",
      "\n",
      "\n",
      "Score of  DecisionTreeRegressor()  is 0.9939628938502872\n",
      "Error:\n",
      "Mean Absolute Error: 160.61812023708723\n",
      "Mean Squared Error: 51914.648602878915\n",
      "Root Mean Squared Error: 227.84786284465983\n",
      "R2 Score: -0.4363534658199213\n",
      "**************************************************************************************************\n",
      "\n",
      "\n",
      "Score of  KNeighborsRegressor()  is 0.3750856581133071\n",
      "Error:\n",
      "Mean Absolute Error: 139.76900931414056\n",
      "Mean Squared Error: 33282.264318374255\n",
      "Root Mean Squared Error: 182.43427396839184\n",
      "R2 Score: 0.07915979418994767\n",
      "**************************************************************************************************\n",
      "\n",
      "\n"
     ]
    }
   ],
   "source": [
    "model=[LinearRegression(),Lasso(),Ridge(),ElasticNet(),SVR(),DecisionTreeRegressor(),KNeighborsRegressor()]\n",
    "\n",
    "for m in model:\n",
    "    m.fit(x_train,y_train)\n",
    "    print(\"Score of \",m,\" is\",m.score(x_train,y_train))\n",
    "    predm=m.predict(x_test)\n",
    "    print(\"Error:\")\n",
    "    print(\"Mean Absolute Error:\",mean_absolute_error(y_test,predm))\n",
    "    print(\"Mean Squared Error:\",mean_squared_error(y_test,predm))\n",
    "    print(\"Root Mean Squared Error:\",np.sqrt(mean_squared_error(y_test,predm)))\n",
    "    print(\"R2 Score:\",r2_score(y_test,predm))\n",
    "    print(\"**************************************************************************************************\")\n",
    "    print('\\n')"
   ]
  },
  {
   "cell_type": "markdown",
   "metadata": {},
   "source": [
    "# Using some ensemble techniques to boost accuracy"
   ]
  },
  {
   "cell_type": "code",
   "execution_count": 61,
   "metadata": {},
   "outputs": [],
   "source": [
    "from sklearn.ensemble import RandomForestRegressor\n",
    "from sklearn.ensemble import AdaBoostRegressor\n",
    "from sklearn.ensemble import GradientBoostingRegressor"
   ]
  },
  {
   "cell_type": "code",
   "execution_count": 62,
   "metadata": {},
   "outputs": [
    {
     "name": "stdout",
     "output_type": "stream",
     "text": [
      "Score of  RandomForestRegressor()  is 0.8797541011978943\n",
      "Error:\n",
      "Mean Absolute Error: 132.54160494200502\n",
      "Mean Squared Error: 30231.81564563745\n",
      "Root Mean Squared Error: 173.87298710736366\n",
      "R2 Score: 0.16355837226581504\n",
      "**************************************************************************************************\n",
      "\n",
      "\n",
      "Score of  AdaBoostRegressor()  is 0.12711929894638163\n",
      "Error:\n",
      "Mean Absolute Error: 148.9392713210847\n",
      "Mean Squared Error: 32290.397176894916\n",
      "Root Mean Squared Error: 179.6952898016387\n",
      "R2 Score: 0.10660237243399551\n",
      "**************************************************************************************************\n",
      "\n",
      "\n",
      "Score of  GradientBoostingRegressor()  is 0.2665410915149542\n",
      "Error:\n",
      "Mean Absolute Error: 134.4303386147056\n",
      "Mean Squared Error: 28991.087793262745\n",
      "Root Mean Squared Error: 170.26769450856713\n",
      "R2 Score: 0.1978863278401669\n",
      "**************************************************************************************************\n",
      "\n",
      "\n"
     ]
    }
   ],
   "source": [
    "model=[RandomForestRegressor(),AdaBoostRegressor(),GradientBoostingRegressor()]\n",
    "\n",
    "for m in model:\n",
    "    m.fit(x_train,y_train)\n",
    "    print(\"Score of \",m,\" is\",m.score(x_train,y_train))\n",
    "    predm=m.predict(x_test)\n",
    "    print(\"Error:\")\n",
    "    print(\"Mean Absolute Error:\",mean_absolute_error(y_test,predm))\n",
    "    print(\"Mean Squared Error:\",mean_squared_error(y_test,predm))\n",
    "    print(\"Root Mean Squared Error:\",np.sqrt(mean_squared_error(y_test,predm)))\n",
    "    print(\"R2 Score:\",r2_score(y_test,predm))\n",
    "    print(\"**************************************************************************************************\")\n",
    "    print('\\n')"
   ]
  },
  {
   "cell_type": "markdown",
   "metadata": {},
   "source": [
    "# Using GridsearchCV"
   ]
  },
  {
   "cell_type": "code",
   "execution_count": 63,
   "metadata": {},
   "outputs": [],
   "source": [
    "from sklearn.model_selection import GridSearchCV"
   ]
  },
  {
   "cell_type": "code",
   "execution_count": 64,
   "metadata": {},
   "outputs": [
    {
     "data": {
      "text/plain": [
       "{'n_estimators': 200}"
      ]
     },
     "execution_count": 64,
     "metadata": {},
     "output_type": "execute_result"
    }
   ],
   "source": [
    "gbr=GradientBoostingRegressor()\n",
    "estimator={'n_estimators':[100,150,200]}\n",
    "clf=GridSearchCV(gbr,estimator)\n",
    "clf.fit(x,y)\n",
    "clf.best_params_"
   ]
  },
  {
   "cell_type": "markdown",
   "metadata": {},
   "source": [
    "# Best Model"
   ]
  },
  {
   "cell_type": "code",
   "execution_count": 65,
   "metadata": {},
   "outputs": [
    {
     "name": "stdout",
     "output_type": "stream",
     "text": [
      "Score is  0.32001643148561354\n",
      "\n",
      "\n",
      "Mean Absolute Error: 132.45500327838917\n",
      "Mean Squared Error: 28531.838088563447\n",
      "Root Mean Squared Error: 168.91370012098915\n",
      "R2 Score: 0.21059266261799747\n"
     ]
    }
   ],
   "source": [
    "# random forest has more better result than knr model\n",
    "rfr=GradientBoostingRegressor(n_estimators=200)\n",
    "rfr.fit(x_train,y_train)\n",
    "print(\"Score is \",rfr.score(x_train,y_train))\n",
    "predrfr=rfr.predict(x_test)\n",
    "print('\\n')\n",
    "print(\"Mean Absolute Error:\",mean_absolute_error(y_test,predrfr))\n",
    "print(\"Mean Squared Error:\",mean_squared_error(y_test,predrfr))\n",
    "print(\"Root Mean Squared Error:\",np.sqrt(mean_squared_error(y_test,predrfr)))\n",
    "print(\"R2 Score:\",r2_score(y_test,predrfr))"
   ]
  },
  {
   "cell_type": "markdown",
   "metadata": {},
   "source": [
    "# Cross Validation"
   ]
  },
  {
   "cell_type": "code",
   "execution_count": 66,
   "metadata": {},
   "outputs": [
    {
     "name": "stdout",
     "output_type": "stream",
     "text": [
      "[0.19247782 0.20343895 0.25206694 0.19850309 0.23112819]\n",
      "0.21552299792374 0.022564411046529415\n"
     ]
    }
   ],
   "source": [
    "# cross validation\n",
    "from sklearn.model_selection import cross_val_score\n",
    "\n",
    "rfrscores=cross_val_score(rfr,x,y,cv=5)\n",
    "print(rfrscores)\n",
    "print(rfrscores.mean(),rfrscores.std())"
   ]
  },
  {
   "cell_type": "markdown",
   "metadata": {},
   "source": [
    "# Saving the Model"
   ]
  },
  {
   "cell_type": "code",
   "execution_count": 67,
   "metadata": {},
   "outputs": [
    {
     "data": {
      "text/plain": [
       "['doc-fees.obj']"
      ]
     },
     "execution_count": 67,
     "metadata": {},
     "output_type": "execute_result"
    }
   ],
   "source": [
    "import joblib\n",
    "joblib.dump(rfr,'doc-fees.obj') "
   ]
  },
  {
   "cell_type": "markdown",
   "metadata": {},
   "source": [
    "# EDA on Test Dataset"
   ]
  },
  {
   "cell_type": "code",
   "execution_count": 68,
   "metadata": {},
   "outputs": [
    {
     "data": {
      "text/plain": [
       "Qualification    object \n",
       "Experience       int32  \n",
       "Rating           float64\n",
       "Profile          object \n",
       "City             object \n",
       "Area             object \n",
       "dtype: object"
      ]
     },
     "execution_count": 68,
     "metadata": {},
     "output_type": "execute_result"
    }
   ],
   "source": [
    "df_test.dtypes"
   ]
  },
  {
   "cell_type": "code",
   "execution_count": 69,
   "metadata": {},
   "outputs": [],
   "source": [
    "# converting Categorical columns into numeric\n",
    "from sklearn.preprocessing import LabelEncoder\n",
    "le=LabelEncoder()\n",
    "list2=['Qualification','Profile','City','Area']\n",
    "for val in list1:\n",
    "    df_test[val]=le.fit_transform(df_test[val].astype(str))"
   ]
  },
  {
   "cell_type": "code",
   "execution_count": 70,
   "metadata": {},
   "outputs": [
    {
     "data": {
      "text/plain": [
       "Qualification    AxesSubplot(0.125,0.536818;0.227941x0.343182)   \n",
       "Experience       AxesSubplot(0.398529,0.536818;0.227941x0.343182)\n",
       "Rating           AxesSubplot(0.672059,0.536818;0.227941x0.343182)\n",
       "Profile          AxesSubplot(0.125,0.125;0.227941x0.343182)      \n",
       "City             AxesSubplot(0.398529,0.125;0.227941x0.343182)   \n",
       "Area             AxesSubplot(0.672059,0.125;0.227941x0.343182)   \n",
       "dtype: object"
      ]
     },
     "execution_count": 70,
     "metadata": {},
     "output_type": "execute_result"
    },
    {
     "data": {
      "image/png": "[encoded data removed]",
      "text/plain": [
       "<Figure size 432x288 with 6 Axes>"
      ]
     },
     "metadata": {
      "needs_background": "light"
     },
     "output_type": "display_data"
    }
   ],
   "source": [
    "# Checking Outliers\n",
    "df_test.plot.box(subplots=True,layout=(2,3))"
   ]
  },
  {
   "cell_type": "code",
   "execution_count": 71,
   "metadata": {},
   "outputs": [
    {
     "name": "stdout",
     "output_type": "stream",
     "text": [
      "(1987, 6)\n",
      "(1976, 6)\n"
     ]
    }
   ],
   "source": [
    "# removing outliers\n",
    "\n",
    "from scipy.stats import zscore\n",
    "\n",
    "z=np.abs(zscore(df_test))\n",
    "print(df_test.shape)\n",
    "df_test=df_test.loc[(z<3).all(axis=1)]\n",
    "print(df_test.shape)"
   ]
  },
  {
   "cell_type": "code",
   "execution_count": 72,
   "metadata": {},
   "outputs": [
    {
     "data": {
      "text/plain": [
       "Qualification   -0.176337\n",
       "Experience       0.873380\n",
       "Rating           0.227271\n",
       "Profile          0.031856\n",
       "City             0.026217\n",
       "Area             0.041570\n",
       "dtype: float64"
      ]
     },
     "execution_count": 72,
     "metadata": {},
     "output_type": "execute_result"
    }
   ],
   "source": [
    "df_test.skew()"
   ]
  },
  {
   "cell_type": "code",
   "execution_count": 73,
   "metadata": {},
   "outputs": [],
   "source": [
    "#df_test['Experience']=np.sqrt(df_test['Experience'])"
   ]
  },
  {
   "cell_type": "code",
   "execution_count": 74,
   "metadata": {},
   "outputs": [],
   "source": [
    "for col in df_test.columns:\n",
    "    if df_test.skew().loc[col]>0.55:\n",
    "        df_test[col]=np.log1p(df_test[col])"
   ]
  },
  {
   "cell_type": "code",
   "execution_count": 75,
   "metadata": {},
   "outputs": [
    {
     "data": {
      "text/plain": [
       "Qualification   -0.176337\n",
       "Experience      -0.994683\n",
       "Rating           0.227271\n",
       "Profile          0.031856\n",
       "City             0.026217\n",
       "Area             0.041570\n",
       "dtype: float64"
      ]
     },
     "execution_count": 75,
     "metadata": {},
     "output_type": "execute_result"
    }
   ],
   "source": [
    "df_test.skew()"
   ]
  },
  {
   "cell_type": "markdown",
   "metadata": {},
   "source": [
    "# Predicting the Fees"
   ]
  },
  {
   "cell_type": "code",
   "execution_count": 76,
   "metadata": {},
   "outputs": [],
   "source": [
    "df_test['Fees']=rfr.predict(df_test)"
   ]
  },
  {
   "cell_type": "code",
   "execution_count": 77,
   "metadata": {},
   "outputs": [
    {
     "data": {
      "text/plain": [
       "0       1276.073300\n",
       "1       1276.073300\n",
       "2       992.557563 \n",
       "3       351.177114 \n",
       "4       764.251099 \n",
       "           ...     \n",
       "1982    774.639391 \n",
       "1983    883.587173 \n",
       "1984    1091.720465\n",
       "1985    764.251099 \n",
       "1986    917.856784 \n",
       "Name: Fees, Length: 1976, dtype: float64"
      ]
     },
     "execution_count": 77,
     "metadata": {},
     "output_type": "execute_result"
    }
   ],
   "source": [
    "df_test['Fees']"
   ]
  },
  {
   "cell_type": "code",
   "execution_count": 78,
   "metadata": {},
   "outputs": [
    {
     "data": {
      "text/plain": [
       "1276.073300    333\n",
       "1065.370967    281\n",
       "763.472558     141\n",
       "1066.149508    132\n",
       "1189.989278    110\n",
       "              ... \n",
       "689.651127     1  \n",
       "571.630074     1  \n",
       "941.880359     1  \n",
       "463.588905     1  \n",
       "892.108767     1  \n",
       "Name: Fees, Length: 154, dtype: int64"
      ]
     },
     "execution_count": 78,
     "metadata": {},
     "output_type": "execute_result"
    }
   ],
   "source": [
    "df_test['Fees'].value_counts()"
   ]
  },
  {
   "cell_type": "code",
   "execution_count": 79,
   "metadata": {},
   "outputs": [
    {
     "data": {
      "text/plain": [
       "1276.0732995295944"
      ]
     },
     "execution_count": 79,
     "metadata": {},
     "output_type": "execute_result"
    }
   ],
   "source": [
    "df_test['Fees'].max()"
   ]
  },
  {
   "cell_type": "code",
   "execution_count": 80,
   "metadata": {},
   "outputs": [
    {
     "data": {
      "text/plain": [
       "230.3870223859524"
      ]
     },
     "execution_count": 80,
     "metadata": {},
     "output_type": "execute_result"
    }
   ],
   "source": [
    "df_test['Fees'].min()"
   ]
  },
  {
   "cell_type": "code",
   "execution_count": null,
   "metadata": {},
   "outputs": [],
   "source": []
  }
 ],
 "metadata": {
  "kernelspec": {
   "display_name": "Python 3",
   "language": "python",
   "name": "python3"
  },
  "language_info": {
   "codemirror_mode": {
    "name": "ipython",
    "version": 3
   },
   "file_extension": ".py",
   "mimetype": "text/x-python",
   "name": "python",
   "nbconvert_exporter": "python",
   "pygments_lexer": "ipython3",
   "version": "3.8.5"
  }
 },
 "nbformat": 4,
 "nbformat_minor": 4
}
